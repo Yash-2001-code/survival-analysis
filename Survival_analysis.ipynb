{
  "nbformat": 4,
  "nbformat_minor": 0,
  "metadata": {
    "colab": {
      "name": "Survival analysis",
      "provenance": [],
      "authorship_tag": "ABX9TyME7OnnbdnE44x/I3QFazgg",
      "include_colab_link": true
    },
    "kernelspec": {
      "name": "python3",
      "display_name": "Python 3"
    },
    "language_info": {
      "name": "python"
    }
  },
  "cells": [
    {
      "cell_type": "markdown",
      "metadata": {
        "id": "view-in-github",
        "colab_type": "text"
      },
      "source": [
        "<a href=\"https://colab.research.google.com/github/Yash-2001-code/survival-analysis/blob/main/Survival_analysis.ipynb\" target=\"_parent\"><img src=\"https://colab.research.google.com/assets/colab-badge.svg\" alt=\"Open In Colab\"/></a>"
      ]
    },
    {
      "cell_type": "code",
      "execution_count": null,
      "metadata": {
        "id": "olo_q3yLS88V"
      },
      "outputs": [],
      "source": [
        "import pandas as pd\n",
        "import numpy as np\n",
        "import matplotlib.pyplot as plt\n",
        "import seaborn as sns"
      ]
    },
    {
      "cell_type": "code",
      "source": [
        "df = '/content/PancreaticCancerData.csv'\n",
        "data = pd.read_csv(df)"
      ],
      "metadata": {
        "id": "R71YGri8VEzz"
      },
      "execution_count": null,
      "outputs": []
    },
    {
      "cell_type": "code",
      "source": [
        "data.head()"
      ],
      "metadata": {
        "id": "BDCpN2BFVLTh",
        "colab": {
          "base_uri": "https://localhost:8080/",
          "height": 473
        },
        "outputId": "85083a5b-8b79-4e09-8863-a2c117556783"
      },
      "execution_count": null,
      "outputs": [
        {
          "output_type": "execute_result",
          "data": {
            "text/plain": [
              "   Case  Dx.Age     Dx.Date  Dx.SzPrim.cm Dx.WasPrimExcis  \\\n",
              "0     1      84  05-05-1995           6.0              No   \n",
              "1     2      62  16-12-2002           3.0              No   \n",
              "2     3      67  25-07-2002           2.0              No   \n",
              "3     5      47  02-12-2002           5.0              No   \n",
              "4     6      57  15-01-2003           4.0              No   \n",
              "\n",
              "   Dx.SzMetsLargest.cm Dx.SzMetsRange.cm RPP.remark    RPP.Date  \\\n",
              "0                  NaN                 x    no data         NaN   \n",
              "1                  2.0            01-Feb        Yes  27-01-2003   \n",
              "2                  2.0            01-Feb        Yes  12-05-2003   \n",
              "3                  NaN                 x         No         NaN   \n",
              "4                  1.0             0.3-1         No         NaN   \n",
              "\n",
              "   RPP.SzPanc.cm  ...                Aut.Panc Aut.SzReTumorPanc  \\\n",
              "0            NaN  ...  Present (Not Resected)               NaN   \n",
              "1            7.0  ...  Present (Not Resected)               NaN   \n",
              "2            4.0  ...  Present (Not Resected)               NaN   \n",
              "3            NaN  ...  Present (Not Resected)               NaN   \n",
              "4            NaN  ...  Present (Not Resected)               NaN   \n",
              "\n",
              "   Aut.SzPrim.cm Aut.MetsBurden Aut.MeanSzMets.cm  Aut.SzMetsRange.cm  \\\n",
              "0            6.0        000to10               1.0             0.5-2.8   \n",
              "1            4.0    100sto1000s               0.3               0.2-2   \n",
              "2            4.0       011to100               3.0             1.0-5.0   \n",
              "3            5.0        000to10               NaN                 NaN   \n",
              "4            5.0    100sto1000s               0.5             0.2-2.0   \n",
              "\n",
              "  Aut.minSzMetsRange.cm Aut.maxSzMetsRange.cm  timeline  result  \n",
              "0                   0.5                   2.8       174       1  \n",
              "1                   0.2                   2.0       161       1  \n",
              "2                   1.0                   5.0       334       1  \n",
              "3                   NaN                   NaN       256       1  \n",
              "4                   0.2                   2.0       229       1  \n",
              "\n",
              "[5 rows x 27 columns]"
            ],
            "text/html": [
              "\n",
              "  <div id=\"df-ca5c02e8-7c75-451b-be91-ba8a5c12eb28\">\n",
              "    <div class=\"colab-df-container\">\n",
              "      <div>\n",
              "<style scoped>\n",
              "    .dataframe tbody tr th:only-of-type {\n",
              "        vertical-align: middle;\n",
              "    }\n",
              "\n",
              "    .dataframe tbody tr th {\n",
              "        vertical-align: top;\n",
              "    }\n",
              "\n",
              "    .dataframe thead th {\n",
              "        text-align: right;\n",
              "    }\n",
              "</style>\n",
              "<table border=\"1\" class=\"dataframe\">\n",
              "  <thead>\n",
              "    <tr style=\"text-align: right;\">\n",
              "      <th></th>\n",
              "      <th>Case</th>\n",
              "      <th>Dx.Age</th>\n",
              "      <th>Dx.Date</th>\n",
              "      <th>Dx.SzPrim.cm</th>\n",
              "      <th>Dx.WasPrimExcis</th>\n",
              "      <th>Dx.SzMetsLargest.cm</th>\n",
              "      <th>Dx.SzMetsRange.cm</th>\n",
              "      <th>RPP.remark</th>\n",
              "      <th>RPP.Date</th>\n",
              "      <th>RPP.SzPanc.cm</th>\n",
              "      <th>...</th>\n",
              "      <th>Aut.Panc</th>\n",
              "      <th>Aut.SzReTumorPanc</th>\n",
              "      <th>Aut.SzPrim.cm</th>\n",
              "      <th>Aut.MetsBurden</th>\n",
              "      <th>Aut.MeanSzMets.cm</th>\n",
              "      <th>Aut.SzMetsRange.cm</th>\n",
              "      <th>Aut.minSzMetsRange.cm</th>\n",
              "      <th>Aut.maxSzMetsRange.cm</th>\n",
              "      <th>timeline</th>\n",
              "      <th>result</th>\n",
              "    </tr>\n",
              "  </thead>\n",
              "  <tbody>\n",
              "    <tr>\n",
              "      <th>0</th>\n",
              "      <td>1</td>\n",
              "      <td>84</td>\n",
              "      <td>05-05-1995</td>\n",
              "      <td>6.0</td>\n",
              "      <td>No</td>\n",
              "      <td>NaN</td>\n",
              "      <td>x</td>\n",
              "      <td>no data</td>\n",
              "      <td>NaN</td>\n",
              "      <td>NaN</td>\n",
              "      <td>...</td>\n",
              "      <td>Present (Not Resected)</td>\n",
              "      <td>NaN</td>\n",
              "      <td>6.0</td>\n",
              "      <td>000to10</td>\n",
              "      <td>1.0</td>\n",
              "      <td>0.5-2.8</td>\n",
              "      <td>0.5</td>\n",
              "      <td>2.8</td>\n",
              "      <td>174</td>\n",
              "      <td>1</td>\n",
              "    </tr>\n",
              "    <tr>\n",
              "      <th>1</th>\n",
              "      <td>2</td>\n",
              "      <td>62</td>\n",
              "      <td>16-12-2002</td>\n",
              "      <td>3.0</td>\n",
              "      <td>No</td>\n",
              "      <td>2.0</td>\n",
              "      <td>01-Feb</td>\n",
              "      <td>Yes</td>\n",
              "      <td>27-01-2003</td>\n",
              "      <td>7.0</td>\n",
              "      <td>...</td>\n",
              "      <td>Present (Not Resected)</td>\n",
              "      <td>NaN</td>\n",
              "      <td>4.0</td>\n",
              "      <td>100sto1000s</td>\n",
              "      <td>0.3</td>\n",
              "      <td>0.2-2</td>\n",
              "      <td>0.2</td>\n",
              "      <td>2.0</td>\n",
              "      <td>161</td>\n",
              "      <td>1</td>\n",
              "    </tr>\n",
              "    <tr>\n",
              "      <th>2</th>\n",
              "      <td>3</td>\n",
              "      <td>67</td>\n",
              "      <td>25-07-2002</td>\n",
              "      <td>2.0</td>\n",
              "      <td>No</td>\n",
              "      <td>2.0</td>\n",
              "      <td>01-Feb</td>\n",
              "      <td>Yes</td>\n",
              "      <td>12-05-2003</td>\n",
              "      <td>4.0</td>\n",
              "      <td>...</td>\n",
              "      <td>Present (Not Resected)</td>\n",
              "      <td>NaN</td>\n",
              "      <td>4.0</td>\n",
              "      <td>011to100</td>\n",
              "      <td>3.0</td>\n",
              "      <td>1.0-5.0</td>\n",
              "      <td>1.0</td>\n",
              "      <td>5.0</td>\n",
              "      <td>334</td>\n",
              "      <td>1</td>\n",
              "    </tr>\n",
              "    <tr>\n",
              "      <th>3</th>\n",
              "      <td>5</td>\n",
              "      <td>47</td>\n",
              "      <td>02-12-2002</td>\n",
              "      <td>5.0</td>\n",
              "      <td>No</td>\n",
              "      <td>NaN</td>\n",
              "      <td>x</td>\n",
              "      <td>No</td>\n",
              "      <td>NaN</td>\n",
              "      <td>NaN</td>\n",
              "      <td>...</td>\n",
              "      <td>Present (Not Resected)</td>\n",
              "      <td>NaN</td>\n",
              "      <td>5.0</td>\n",
              "      <td>000to10</td>\n",
              "      <td>NaN</td>\n",
              "      <td>NaN</td>\n",
              "      <td>NaN</td>\n",
              "      <td>NaN</td>\n",
              "      <td>256</td>\n",
              "      <td>1</td>\n",
              "    </tr>\n",
              "    <tr>\n",
              "      <th>4</th>\n",
              "      <td>6</td>\n",
              "      <td>57</td>\n",
              "      <td>15-01-2003</td>\n",
              "      <td>4.0</td>\n",
              "      <td>No</td>\n",
              "      <td>1.0</td>\n",
              "      <td>0.3-1</td>\n",
              "      <td>No</td>\n",
              "      <td>NaN</td>\n",
              "      <td>NaN</td>\n",
              "      <td>...</td>\n",
              "      <td>Present (Not Resected)</td>\n",
              "      <td>NaN</td>\n",
              "      <td>5.0</td>\n",
              "      <td>100sto1000s</td>\n",
              "      <td>0.5</td>\n",
              "      <td>0.2-2.0</td>\n",
              "      <td>0.2</td>\n",
              "      <td>2.0</td>\n",
              "      <td>229</td>\n",
              "      <td>1</td>\n",
              "    </tr>\n",
              "  </tbody>\n",
              "</table>\n",
              "<p>5 rows × 27 columns</p>\n",
              "</div>\n",
              "      <button class=\"colab-df-convert\" onclick=\"convertToInteractive('df-ca5c02e8-7c75-451b-be91-ba8a5c12eb28')\"\n",
              "              title=\"Convert this dataframe to an interactive table.\"\n",
              "              style=\"display:none;\">\n",
              "        \n",
              "  <svg xmlns=\"http://www.w3.org/2000/svg\" height=\"24px\"viewBox=\"0 0 24 24\"\n",
              "       width=\"24px\">\n",
              "    <path d=\"M0 0h24v24H0V0z\" fill=\"none\"/>\n",
              "    <path d=\"M18.56 5.44l.94 2.06.94-2.06 2.06-.94-2.06-.94-.94-2.06-.94 2.06-2.06.94zm-11 1L8.5 8.5l.94-2.06 2.06-.94-2.06-.94L8.5 2.5l-.94 2.06-2.06.94zm10 10l.94 2.06.94-2.06 2.06-.94-2.06-.94-.94-2.06-.94 2.06-2.06.94z\"/><path d=\"M17.41 7.96l-1.37-1.37c-.4-.4-.92-.59-1.43-.59-.52 0-1.04.2-1.43.59L10.3 9.45l-7.72 7.72c-.78.78-.78 2.05 0 2.83L4 21.41c.39.39.9.59 1.41.59.51 0 1.02-.2 1.41-.59l7.78-7.78 2.81-2.81c.8-.78.8-2.07 0-2.86zM5.41 20L4 18.59l7.72-7.72 1.47 1.35L5.41 20z\"/>\n",
              "  </svg>\n",
              "      </button>\n",
              "      \n",
              "  <style>\n",
              "    .colab-df-container {\n",
              "      display:flex;\n",
              "      flex-wrap:wrap;\n",
              "      gap: 12px;\n",
              "    }\n",
              "\n",
              "    .colab-df-convert {\n",
              "      background-color: #E8F0FE;\n",
              "      border: none;\n",
              "      border-radius: 50%;\n",
              "      cursor: pointer;\n",
              "      display: none;\n",
              "      fill: #1967D2;\n",
              "      height: 32px;\n",
              "      padding: 0 0 0 0;\n",
              "      width: 32px;\n",
              "    }\n",
              "\n",
              "    .colab-df-convert:hover {\n",
              "      background-color: #E2EBFA;\n",
              "      box-shadow: 0px 1px 2px rgba(60, 64, 67, 0.3), 0px 1px 3px 1px rgba(60, 64, 67, 0.15);\n",
              "      fill: #174EA6;\n",
              "    }\n",
              "\n",
              "    [theme=dark] .colab-df-convert {\n",
              "      background-color: #3B4455;\n",
              "      fill: #D2E3FC;\n",
              "    }\n",
              "\n",
              "    [theme=dark] .colab-df-convert:hover {\n",
              "      background-color: #434B5C;\n",
              "      box-shadow: 0px 1px 3px 1px rgba(0, 0, 0, 0.15);\n",
              "      filter: drop-shadow(0px 1px 2px rgba(0, 0, 0, 0.3));\n",
              "      fill: #FFFFFF;\n",
              "    }\n",
              "  </style>\n",
              "\n",
              "      <script>\n",
              "        const buttonEl =\n",
              "          document.querySelector('#df-ca5c02e8-7c75-451b-be91-ba8a5c12eb28 button.colab-df-convert');\n",
              "        buttonEl.style.display =\n",
              "          google.colab.kernel.accessAllowed ? 'block' : 'none';\n",
              "\n",
              "        async function convertToInteractive(key) {\n",
              "          const element = document.querySelector('#df-ca5c02e8-7c75-451b-be91-ba8a5c12eb28');\n",
              "          const dataTable =\n",
              "            await google.colab.kernel.invokeFunction('convertToInteractive',\n",
              "                                                     [key], {});\n",
              "          if (!dataTable) return;\n",
              "\n",
              "          const docLinkHtml = 'Like what you see? Visit the ' +\n",
              "            '<a target=\"_blank\" href=https://colab.research.google.com/notebooks/data_table.ipynb>data table notebook</a>'\n",
              "            + ' to learn more about interactive tables.';\n",
              "          element.innerHTML = '';\n",
              "          dataTable['output_type'] = 'display_data';\n",
              "          await google.colab.output.renderOutput(dataTable, element);\n",
              "          const docLink = document.createElement('div');\n",
              "          docLink.innerHTML = docLinkHtml;\n",
              "          element.appendChild(docLink);\n",
              "        }\n",
              "      </script>\n",
              "    </div>\n",
              "  </div>\n",
              "  "
            ]
          },
          "metadata": {},
          "execution_count": 3
        }
      ]
    },
    {
      "cell_type": "code",
      "source": [
        "data.info()"
      ],
      "metadata": {
        "colab": {
          "base_uri": "https://localhost:8080/"
        },
        "id": "frXgVOO5W3KV",
        "outputId": "80e8a4e7-df6e-4899-dec2-62843f06bcfa"
      },
      "execution_count": null,
      "outputs": [
        {
          "output_type": "stream",
          "name": "stdout",
          "text": [
            "<class 'pandas.core.frame.DataFrame'>\n",
            "RangeIndex: 101 entries, 0 to 100\n",
            "Data columns (total 27 columns):\n",
            " #   Column                 Non-Null Count  Dtype  \n",
            "---  ------                 --------------  -----  \n",
            " 0   Case                   101 non-null    int64  \n",
            " 1   Dx.Age                 101 non-null    int64  \n",
            " 2   Dx.Date                101 non-null    object \n",
            " 3   Dx.SzPrim.cm           101 non-null    float64\n",
            " 4   Dx.WasPrimExcis        101 non-null    object \n",
            " 5   Dx.SzMetsLargest.cm    36 non-null     float64\n",
            " 6   Dx.SzMetsRange.cm      100 non-null    object \n",
            " 7   RPP.remark             101 non-null    object \n",
            " 8   RPP.Date               44 non-null     object \n",
            " 9   RPP.SzPanc.cm          40 non-null     float64\n",
            " 10  MR.remark              97 non-null     object \n",
            " 11  MR.Date                44 non-null     object \n",
            " 12  MR.SzMetsLargest.cm    41 non-null     float64\n",
            " 13  MP.remark              97 non-null     object \n",
            " 14  MP.Date                26 non-null     object \n",
            " 15  MP.SzMetsLargest.cm    26 non-null     float64\n",
            " 16  Aut.DateDeath          101 non-null    object \n",
            " 17  Aut.Panc               101 non-null    object \n",
            " 18  Aut.SzReTumorPanc      20 non-null     float64\n",
            " 19  Aut.SzPrim.cm          75 non-null     float64\n",
            " 20  Aut.MetsBurden         101 non-null    object \n",
            " 21  Aut.MeanSzMets.cm      84 non-null     float64\n",
            " 22  Aut.SzMetsRange.cm     83 non-null     object \n",
            " 23  Aut.minSzMetsRange.cm  83 non-null     float64\n",
            " 24  Aut.maxSzMetsRange.cm  83 non-null     float64\n",
            " 25  timeline               101 non-null    int64  \n",
            " 26  result                 101 non-null    int64  \n",
            "dtypes: float64(10), int64(4), object(13)\n",
            "memory usage: 21.4+ KB\n"
          ]
        }
      ]
    },
    {
      "cell_type": "code",
      "source": [
        "data.drop(['RPP.Date'], axis = 1, inplace = True )\n",
        "data.drop(['MR.Date'], axis = 1, inplace = True )\n",
        "data.drop(['MP.Date'], axis = 1, inplace = True )\n",
        "data.drop(['Dx.SzMetsRange.cm'], axis = 1,inplace = True )\n",
        "data.drop(['MR.remark'], axis = 1, inplace = True )\n",
        "data.drop(['Aut.SzReTumorPanc'], axis = 1, inplace = True )\n",
        "data.drop(['MP.remark'], axis = 1, inplace = True )\n",
        "data.drop(['Aut.MetsBurden'], axis = 1, inplace = True )\n",
        "data.drop(['Aut.SzMetsRange.cm'], axis = 1, inplace = True )\n",
        "data.drop(['Case'], axis = 1, inplace = True )"
      ],
      "metadata": {
        "id": "vjWlGSZcr1_P"
      },
      "execution_count": null,
      "outputs": []
    },
    {
      "cell_type": "code",
      "source": [
        "data.info()"
      ],
      "metadata": {
        "colab": {
          "base_uri": "https://localhost:8080/"
        },
        "id": "bHF39F96tQMY",
        "outputId": "a2a0a81d-a8a8-49f6-d619-a814446c9565"
      },
      "execution_count": null,
      "outputs": [
        {
          "output_type": "stream",
          "name": "stdout",
          "text": [
            "<class 'pandas.core.frame.DataFrame'>\n",
            "RangeIndex: 101 entries, 0 to 100\n",
            "Data columns (total 17 columns):\n",
            " #   Column                 Non-Null Count  Dtype  \n",
            "---  ------                 --------------  -----  \n",
            " 0   Dx.Age                 101 non-null    int64  \n",
            " 1   Dx.Date                101 non-null    object \n",
            " 2   Dx.SzPrim.cm           101 non-null    float64\n",
            " 3   Dx.WasPrimExcis        101 non-null    object \n",
            " 4   Dx.SzMetsLargest.cm    36 non-null     float64\n",
            " 5   RPP.remark             101 non-null    object \n",
            " 6   RPP.SzPanc.cm          40 non-null     float64\n",
            " 7   MR.SzMetsLargest.cm    41 non-null     float64\n",
            " 8   MP.SzMetsLargest.cm    26 non-null     float64\n",
            " 9   Aut.DateDeath          101 non-null    object \n",
            " 10  Aut.Panc               101 non-null    object \n",
            " 11  Aut.SzPrim.cm          75 non-null     float64\n",
            " 12  Aut.MeanSzMets.cm      84 non-null     float64\n",
            " 13  Aut.minSzMetsRange.cm  83 non-null     float64\n",
            " 14  Aut.maxSzMetsRange.cm  83 non-null     float64\n",
            " 15  timeline               101 non-null    int64  \n",
            " 16  result                 101 non-null    int64  \n",
            "dtypes: float64(9), int64(3), object(5)\n",
            "memory usage: 13.5+ KB\n"
          ]
        }
      ]
    },
    {
      "cell_type": "code",
      "source": [
        "data['Dx.Date'] = pd.to_datetime(data['Dx.Date']) \n",
        "data['Aut.DateDeath'] = pd.to_datetime(data['Aut.DateDeath'])"
      ],
      "metadata": {
        "id": "x3UTpmlvgFoC"
      },
      "execution_count": null,
      "outputs": []
    },
    {
      "cell_type": "code",
      "source": [
        "DataDummies = pd.get_dummies(data)\n",
        "DataDummies"
      ],
      "metadata": {
        "colab": {
          "base_uri": "https://localhost:8080/",
          "height": 696
        },
        "id": "_ugHH3DLfin8",
        "outputId": "560a7669-1002-493d-e1d9-ee1e8181823e"
      },
      "execution_count": null,
      "outputs": [
        {
          "output_type": "execute_result",
          "data": {
            "text/plain": [
              "     Dx.Age    Dx.Date  Dx.SzPrim.cm  Dx.SzMetsLargest.cm  RPP.SzPanc.cm  \\\n",
              "0        84 1995-05-05           6.0                  NaN            NaN   \n",
              "1        62 2002-12-16           3.0                  2.0            7.0   \n",
              "2        67 2002-07-25           2.0                  2.0            4.0   \n",
              "3        47 2002-02-12           5.0                  NaN            NaN   \n",
              "4        57 2003-01-15           4.0                  1.0            NaN   \n",
              "..      ...        ...           ...                  ...            ...   \n",
              "96       74 2010-07-26           2.0                 13.6            NaN   \n",
              "97       69 2010-11-11           3.0                  2.5            NaN   \n",
              "98       75 2010-01-04           3.0                  NaN            3.0   \n",
              "99       55 2009-01-09           1.6                  NaN            2.6   \n",
              "100      79 2010-04-15           3.0                  NaN            NaN   \n",
              "\n",
              "     MR.SzMetsLargest.cm  MP.SzMetsLargest.cm Aut.DateDeath  Aut.SzPrim.cm  \\\n",
              "0                    NaN                  NaN    1995-10-26            6.0   \n",
              "1                    5.0                  NaN    2003-05-26            4.0   \n",
              "2                    2.9                  5.0    2003-06-24            4.0   \n",
              "3                    NaN                  NaN    2003-08-15            5.0   \n",
              "4                    NaN                  2.0    2003-01-09            5.0   \n",
              "..                   ...                  ...           ...            ...   \n",
              "96                   NaN                 14.0    2010-10-23            3.0   \n",
              "97                   NaN                  NaN    2010-11-28            3.0   \n",
              "98                   NaN                  NaN    2010-12-14            3.5   \n",
              "99                   NaN                  NaN    2010-12-22            3.5   \n",
              "100                  NaN                  NaN    2011-02-19            4.5   \n",
              "\n",
              "     Aut.MeanSzMets.cm  ...  Dx.WasPrimExcis_No  Dx.WasPrimExcis_Yes  \\\n",
              "0                  1.0  ...                   1                    0   \n",
              "1                  0.3  ...                   1                    0   \n",
              "2                  3.0  ...                   1                    0   \n",
              "3                  NaN  ...                   1                    0   \n",
              "4                  0.5  ...                   1                    0   \n",
              "..                 ...  ...                 ...                  ...   \n",
              "96                 5.0  ...                   1                    0   \n",
              "97                 2.5  ...                   1                    0   \n",
              "98                 NaN  ...                   1                    0   \n",
              "99                 1.5  ...                   1                    0   \n",
              "100                2.0  ...                   1                    0   \n",
              "\n",
              "     RPP.remark_No  RPP.remark_Yes  RPP.remark_no data  \\\n",
              "0                0               0                   1   \n",
              "1                0               1                   0   \n",
              "2                0               1                   0   \n",
              "3                1               0                   0   \n",
              "4                1               0                   0   \n",
              "..             ...             ...                 ...   \n",
              "96               1               0                   0   \n",
              "97               1               0                   0   \n",
              "98               1               0                   0   \n",
              "99               0               1                   0   \n",
              "100              0               0                   1   \n",
              "\n",
              "     Aut.Panc_Absent (Resected)  Aut.Panc_Absent (Treated)  \\\n",
              "0                             0                          0   \n",
              "1                             0                          0   \n",
              "2                             0                          0   \n",
              "3                             0                          0   \n",
              "4                             0                          0   \n",
              "..                          ...                        ...   \n",
              "96                            0                          0   \n",
              "97                            0                          0   \n",
              "98                            0                          0   \n",
              "99                            0                          0   \n",
              "100                           0                          0   \n",
              "\n",
              "     Aut.Panc_Present (Not Resected)  Aut.Panc_Recurred After Surgery  \\\n",
              "0                                  1                                0   \n",
              "1                                  1                                0   \n",
              "2                                  1                                0   \n",
              "3                                  1                                0   \n",
              "4                                  1                                0   \n",
              "..                               ...                              ...   \n",
              "96                                 1                                0   \n",
              "97                                 1                                0   \n",
              "98                                 1                                0   \n",
              "99                                 1                                0   \n",
              "100                                1                                0   \n",
              "\n",
              "     Aut.Panc_Resected (Total Pancreatectomy)  \n",
              "0                                           0  \n",
              "1                                           0  \n",
              "2                                           0  \n",
              "3                                           0  \n",
              "4                                           0  \n",
              "..                                        ...  \n",
              "96                                          0  \n",
              "97                                          0  \n",
              "98                                          0  \n",
              "99                                          0  \n",
              "100                                         0  \n",
              "\n",
              "[101 rows x 24 columns]"
            ],
            "text/html": [
              "\n",
              "  <div id=\"df-14970c76-deed-4baa-872c-135b09365e5c\">\n",
              "    <div class=\"colab-df-container\">\n",
              "      <div>\n",
              "<style scoped>\n",
              "    .dataframe tbody tr th:only-of-type {\n",
              "        vertical-align: middle;\n",
              "    }\n",
              "\n",
              "    .dataframe tbody tr th {\n",
              "        vertical-align: top;\n",
              "    }\n",
              "\n",
              "    .dataframe thead th {\n",
              "        text-align: right;\n",
              "    }\n",
              "</style>\n",
              "<table border=\"1\" class=\"dataframe\">\n",
              "  <thead>\n",
              "    <tr style=\"text-align: right;\">\n",
              "      <th></th>\n",
              "      <th>Dx.Age</th>\n",
              "      <th>Dx.Date</th>\n",
              "      <th>Dx.SzPrim.cm</th>\n",
              "      <th>Dx.SzMetsLargest.cm</th>\n",
              "      <th>RPP.SzPanc.cm</th>\n",
              "      <th>MR.SzMetsLargest.cm</th>\n",
              "      <th>MP.SzMetsLargest.cm</th>\n",
              "      <th>Aut.DateDeath</th>\n",
              "      <th>Aut.SzPrim.cm</th>\n",
              "      <th>Aut.MeanSzMets.cm</th>\n",
              "      <th>...</th>\n",
              "      <th>Dx.WasPrimExcis_No</th>\n",
              "      <th>Dx.WasPrimExcis_Yes</th>\n",
              "      <th>RPP.remark_No</th>\n",
              "      <th>RPP.remark_Yes</th>\n",
              "      <th>RPP.remark_no data</th>\n",
              "      <th>Aut.Panc_Absent (Resected)</th>\n",
              "      <th>Aut.Panc_Absent (Treated)</th>\n",
              "      <th>Aut.Panc_Present (Not Resected)</th>\n",
              "      <th>Aut.Panc_Recurred After Surgery</th>\n",
              "      <th>Aut.Panc_Resected (Total Pancreatectomy)</th>\n",
              "    </tr>\n",
              "  </thead>\n",
              "  <tbody>\n",
              "    <tr>\n",
              "      <th>0</th>\n",
              "      <td>84</td>\n",
              "      <td>1995-05-05</td>\n",
              "      <td>6.0</td>\n",
              "      <td>NaN</td>\n",
              "      <td>NaN</td>\n",
              "      <td>NaN</td>\n",
              "      <td>NaN</td>\n",
              "      <td>1995-10-26</td>\n",
              "      <td>6.0</td>\n",
              "      <td>1.0</td>\n",
              "      <td>...</td>\n",
              "      <td>1</td>\n",
              "      <td>0</td>\n",
              "      <td>0</td>\n",
              "      <td>0</td>\n",
              "      <td>1</td>\n",
              "      <td>0</td>\n",
              "      <td>0</td>\n",
              "      <td>1</td>\n",
              "      <td>0</td>\n",
              "      <td>0</td>\n",
              "    </tr>\n",
              "    <tr>\n",
              "      <th>1</th>\n",
              "      <td>62</td>\n",
              "      <td>2002-12-16</td>\n",
              "      <td>3.0</td>\n",
              "      <td>2.0</td>\n",
              "      <td>7.0</td>\n",
              "      <td>5.0</td>\n",
              "      <td>NaN</td>\n",
              "      <td>2003-05-26</td>\n",
              "      <td>4.0</td>\n",
              "      <td>0.3</td>\n",
              "      <td>...</td>\n",
              "      <td>1</td>\n",
              "      <td>0</td>\n",
              "      <td>0</td>\n",
              "      <td>1</td>\n",
              "      <td>0</td>\n",
              "      <td>0</td>\n",
              "      <td>0</td>\n",
              "      <td>1</td>\n",
              "      <td>0</td>\n",
              "      <td>0</td>\n",
              "    </tr>\n",
              "    <tr>\n",
              "      <th>2</th>\n",
              "      <td>67</td>\n",
              "      <td>2002-07-25</td>\n",
              "      <td>2.0</td>\n",
              "      <td>2.0</td>\n",
              "      <td>4.0</td>\n",
              "      <td>2.9</td>\n",
              "      <td>5.0</td>\n",
              "      <td>2003-06-24</td>\n",
              "      <td>4.0</td>\n",
              "      <td>3.0</td>\n",
              "      <td>...</td>\n",
              "      <td>1</td>\n",
              "      <td>0</td>\n",
              "      <td>0</td>\n",
              "      <td>1</td>\n",
              "      <td>0</td>\n",
              "      <td>0</td>\n",
              "      <td>0</td>\n",
              "      <td>1</td>\n",
              "      <td>0</td>\n",
              "      <td>0</td>\n",
              "    </tr>\n",
              "    <tr>\n",
              "      <th>3</th>\n",
              "      <td>47</td>\n",
              "      <td>2002-02-12</td>\n",
              "      <td>5.0</td>\n",
              "      <td>NaN</td>\n",
              "      <td>NaN</td>\n",
              "      <td>NaN</td>\n",
              "      <td>NaN</td>\n",
              "      <td>2003-08-15</td>\n",
              "      <td>5.0</td>\n",
              "      <td>NaN</td>\n",
              "      <td>...</td>\n",
              "      <td>1</td>\n",
              "      <td>0</td>\n",
              "      <td>1</td>\n",
              "      <td>0</td>\n",
              "      <td>0</td>\n",
              "      <td>0</td>\n",
              "      <td>0</td>\n",
              "      <td>1</td>\n",
              "      <td>0</td>\n",
              "      <td>0</td>\n",
              "    </tr>\n",
              "    <tr>\n",
              "      <th>4</th>\n",
              "      <td>57</td>\n",
              "      <td>2003-01-15</td>\n",
              "      <td>4.0</td>\n",
              "      <td>1.0</td>\n",
              "      <td>NaN</td>\n",
              "      <td>NaN</td>\n",
              "      <td>2.0</td>\n",
              "      <td>2003-01-09</td>\n",
              "      <td>5.0</td>\n",
              "      <td>0.5</td>\n",
              "      <td>...</td>\n",
              "      <td>1</td>\n",
              "      <td>0</td>\n",
              "      <td>1</td>\n",
              "      <td>0</td>\n",
              "      <td>0</td>\n",
              "      <td>0</td>\n",
              "      <td>0</td>\n",
              "      <td>1</td>\n",
              "      <td>0</td>\n",
              "      <td>0</td>\n",
              "    </tr>\n",
              "    <tr>\n",
              "      <th>...</th>\n",
              "      <td>...</td>\n",
              "      <td>...</td>\n",
              "      <td>...</td>\n",
              "      <td>...</td>\n",
              "      <td>...</td>\n",
              "      <td>...</td>\n",
              "      <td>...</td>\n",
              "      <td>...</td>\n",
              "      <td>...</td>\n",
              "      <td>...</td>\n",
              "      <td>...</td>\n",
              "      <td>...</td>\n",
              "      <td>...</td>\n",
              "      <td>...</td>\n",
              "      <td>...</td>\n",
              "      <td>...</td>\n",
              "      <td>...</td>\n",
              "      <td>...</td>\n",
              "      <td>...</td>\n",
              "      <td>...</td>\n",
              "      <td>...</td>\n",
              "    </tr>\n",
              "    <tr>\n",
              "      <th>96</th>\n",
              "      <td>74</td>\n",
              "      <td>2010-07-26</td>\n",
              "      <td>2.0</td>\n",
              "      <td>13.6</td>\n",
              "      <td>NaN</td>\n",
              "      <td>NaN</td>\n",
              "      <td>14.0</td>\n",
              "      <td>2010-10-23</td>\n",
              "      <td>3.0</td>\n",
              "      <td>5.0</td>\n",
              "      <td>...</td>\n",
              "      <td>1</td>\n",
              "      <td>0</td>\n",
              "      <td>1</td>\n",
              "      <td>0</td>\n",
              "      <td>0</td>\n",
              "      <td>0</td>\n",
              "      <td>0</td>\n",
              "      <td>1</td>\n",
              "      <td>0</td>\n",
              "      <td>0</td>\n",
              "    </tr>\n",
              "    <tr>\n",
              "      <th>97</th>\n",
              "      <td>69</td>\n",
              "      <td>2010-11-11</td>\n",
              "      <td>3.0</td>\n",
              "      <td>2.5</td>\n",
              "      <td>NaN</td>\n",
              "      <td>NaN</td>\n",
              "      <td>NaN</td>\n",
              "      <td>2010-11-28</td>\n",
              "      <td>3.0</td>\n",
              "      <td>2.5</td>\n",
              "      <td>...</td>\n",
              "      <td>1</td>\n",
              "      <td>0</td>\n",
              "      <td>1</td>\n",
              "      <td>0</td>\n",
              "      <td>0</td>\n",
              "      <td>0</td>\n",
              "      <td>0</td>\n",
              "      <td>1</td>\n",
              "      <td>0</td>\n",
              "      <td>0</td>\n",
              "    </tr>\n",
              "    <tr>\n",
              "      <th>98</th>\n",
              "      <td>75</td>\n",
              "      <td>2010-01-04</td>\n",
              "      <td>3.0</td>\n",
              "      <td>NaN</td>\n",
              "      <td>3.0</td>\n",
              "      <td>NaN</td>\n",
              "      <td>NaN</td>\n",
              "      <td>2010-12-14</td>\n",
              "      <td>3.5</td>\n",
              "      <td>NaN</td>\n",
              "      <td>...</td>\n",
              "      <td>1</td>\n",
              "      <td>0</td>\n",
              "      <td>1</td>\n",
              "      <td>0</td>\n",
              "      <td>0</td>\n",
              "      <td>0</td>\n",
              "      <td>0</td>\n",
              "      <td>1</td>\n",
              "      <td>0</td>\n",
              "      <td>0</td>\n",
              "    </tr>\n",
              "    <tr>\n",
              "      <th>99</th>\n",
              "      <td>55</td>\n",
              "      <td>2009-01-09</td>\n",
              "      <td>1.6</td>\n",
              "      <td>NaN</td>\n",
              "      <td>2.6</td>\n",
              "      <td>NaN</td>\n",
              "      <td>NaN</td>\n",
              "      <td>2010-12-22</td>\n",
              "      <td>3.5</td>\n",
              "      <td>1.5</td>\n",
              "      <td>...</td>\n",
              "      <td>1</td>\n",
              "      <td>0</td>\n",
              "      <td>0</td>\n",
              "      <td>1</td>\n",
              "      <td>0</td>\n",
              "      <td>0</td>\n",
              "      <td>0</td>\n",
              "      <td>1</td>\n",
              "      <td>0</td>\n",
              "      <td>0</td>\n",
              "    </tr>\n",
              "    <tr>\n",
              "      <th>100</th>\n",
              "      <td>79</td>\n",
              "      <td>2010-04-15</td>\n",
              "      <td>3.0</td>\n",
              "      <td>NaN</td>\n",
              "      <td>NaN</td>\n",
              "      <td>NaN</td>\n",
              "      <td>NaN</td>\n",
              "      <td>2011-02-19</td>\n",
              "      <td>4.5</td>\n",
              "      <td>2.0</td>\n",
              "      <td>...</td>\n",
              "      <td>1</td>\n",
              "      <td>0</td>\n",
              "      <td>0</td>\n",
              "      <td>0</td>\n",
              "      <td>1</td>\n",
              "      <td>0</td>\n",
              "      <td>0</td>\n",
              "      <td>1</td>\n",
              "      <td>0</td>\n",
              "      <td>0</td>\n",
              "    </tr>\n",
              "  </tbody>\n",
              "</table>\n",
              "<p>101 rows × 24 columns</p>\n",
              "</div>\n",
              "      <button class=\"colab-df-convert\" onclick=\"convertToInteractive('df-14970c76-deed-4baa-872c-135b09365e5c')\"\n",
              "              title=\"Convert this dataframe to an interactive table.\"\n",
              "              style=\"display:none;\">\n",
              "        \n",
              "  <svg xmlns=\"http://www.w3.org/2000/svg\" height=\"24px\"viewBox=\"0 0 24 24\"\n",
              "       width=\"24px\">\n",
              "    <path d=\"M0 0h24v24H0V0z\" fill=\"none\"/>\n",
              "    <path d=\"M18.56 5.44l.94 2.06.94-2.06 2.06-.94-2.06-.94-.94-2.06-.94 2.06-2.06.94zm-11 1L8.5 8.5l.94-2.06 2.06-.94-2.06-.94L8.5 2.5l-.94 2.06-2.06.94zm10 10l.94 2.06.94-2.06 2.06-.94-2.06-.94-.94-2.06-.94 2.06-2.06.94z\"/><path d=\"M17.41 7.96l-1.37-1.37c-.4-.4-.92-.59-1.43-.59-.52 0-1.04.2-1.43.59L10.3 9.45l-7.72 7.72c-.78.78-.78 2.05 0 2.83L4 21.41c.39.39.9.59 1.41.59.51 0 1.02-.2 1.41-.59l7.78-7.78 2.81-2.81c.8-.78.8-2.07 0-2.86zM5.41 20L4 18.59l7.72-7.72 1.47 1.35L5.41 20z\"/>\n",
              "  </svg>\n",
              "      </button>\n",
              "      \n",
              "  <style>\n",
              "    .colab-df-container {\n",
              "      display:flex;\n",
              "      flex-wrap:wrap;\n",
              "      gap: 12px;\n",
              "    }\n",
              "\n",
              "    .colab-df-convert {\n",
              "      background-color: #E8F0FE;\n",
              "      border: none;\n",
              "      border-radius: 50%;\n",
              "      cursor: pointer;\n",
              "      display: none;\n",
              "      fill: #1967D2;\n",
              "      height: 32px;\n",
              "      padding: 0 0 0 0;\n",
              "      width: 32px;\n",
              "    }\n",
              "\n",
              "    .colab-df-convert:hover {\n",
              "      background-color: #E2EBFA;\n",
              "      box-shadow: 0px 1px 2px rgba(60, 64, 67, 0.3), 0px 1px 3px 1px rgba(60, 64, 67, 0.15);\n",
              "      fill: #174EA6;\n",
              "    }\n",
              "\n",
              "    [theme=dark] .colab-df-convert {\n",
              "      background-color: #3B4455;\n",
              "      fill: #D2E3FC;\n",
              "    }\n",
              "\n",
              "    [theme=dark] .colab-df-convert:hover {\n",
              "      background-color: #434B5C;\n",
              "      box-shadow: 0px 1px 3px 1px rgba(0, 0, 0, 0.15);\n",
              "      filter: drop-shadow(0px 1px 2px rgba(0, 0, 0, 0.3));\n",
              "      fill: #FFFFFF;\n",
              "    }\n",
              "  </style>\n",
              "\n",
              "      <script>\n",
              "        const buttonEl =\n",
              "          document.querySelector('#df-14970c76-deed-4baa-872c-135b09365e5c button.colab-df-convert');\n",
              "        buttonEl.style.display =\n",
              "          google.colab.kernel.accessAllowed ? 'block' : 'none';\n",
              "\n",
              "        async function convertToInteractive(key) {\n",
              "          const element = document.querySelector('#df-14970c76-deed-4baa-872c-135b09365e5c');\n",
              "          const dataTable =\n",
              "            await google.colab.kernel.invokeFunction('convertToInteractive',\n",
              "                                                     [key], {});\n",
              "          if (!dataTable) return;\n",
              "\n",
              "          const docLinkHtml = 'Like what you see? Visit the ' +\n",
              "            '<a target=\"_blank\" href=https://colab.research.google.com/notebooks/data_table.ipynb>data table notebook</a>'\n",
              "            + ' to learn more about interactive tables.';\n",
              "          element.innerHTML = '';\n",
              "          dataTable['output_type'] = 'display_data';\n",
              "          await google.colab.output.renderOutput(dataTable, element);\n",
              "          const docLink = document.createElement('div');\n",
              "          docLink.innerHTML = docLinkHtml;\n",
              "          element.appendChild(docLink);\n",
              "        }\n",
              "      </script>\n",
              "    </div>\n",
              "  </div>\n",
              "  "
            ]
          },
          "metadata": {},
          "execution_count": 8
        }
      ]
    },
    {
      "cell_type": "code",
      "source": [
        "DataDummies.info()"
      ],
      "metadata": {
        "colab": {
          "base_uri": "https://localhost:8080/"
        },
        "id": "jDtzpCQuhkr0",
        "outputId": "954a6d10-435c-4d10-ce49-9170df34d326"
      },
      "execution_count": null,
      "outputs": [
        {
          "output_type": "stream",
          "name": "stdout",
          "text": [
            "<class 'pandas.core.frame.DataFrame'>\n",
            "RangeIndex: 101 entries, 0 to 100\n",
            "Data columns (total 24 columns):\n",
            " #   Column                                    Non-Null Count  Dtype         \n",
            "---  ------                                    --------------  -----         \n",
            " 0   Dx.Age                                    101 non-null    int64         \n",
            " 1   Dx.Date                                   101 non-null    datetime64[ns]\n",
            " 2   Dx.SzPrim.cm                              101 non-null    float64       \n",
            " 3   Dx.SzMetsLargest.cm                       36 non-null     float64       \n",
            " 4   RPP.SzPanc.cm                             40 non-null     float64       \n",
            " 5   MR.SzMetsLargest.cm                       41 non-null     float64       \n",
            " 6   MP.SzMetsLargest.cm                       26 non-null     float64       \n",
            " 7   Aut.DateDeath                             101 non-null    datetime64[ns]\n",
            " 8   Aut.SzPrim.cm                             75 non-null     float64       \n",
            " 9   Aut.MeanSzMets.cm                         84 non-null     float64       \n",
            " 10  Aut.minSzMetsRange.cm                     83 non-null     float64       \n",
            " 11  Aut.maxSzMetsRange.cm                     83 non-null     float64       \n",
            " 12  timeline                                  101 non-null    int64         \n",
            " 13  result                                    101 non-null    int64         \n",
            " 14  Dx.WasPrimExcis_No                        101 non-null    uint8         \n",
            " 15  Dx.WasPrimExcis_Yes                       101 non-null    uint8         \n",
            " 16  RPP.remark_No                             101 non-null    uint8         \n",
            " 17  RPP.remark_Yes                            101 non-null    uint8         \n",
            " 18  RPP.remark_no data                        101 non-null    uint8         \n",
            " 19  Aut.Panc_Absent (Resected)                101 non-null    uint8         \n",
            " 20  Aut.Panc_Absent (Treated)                 101 non-null    uint8         \n",
            " 21  Aut.Panc_Present (Not Resected)           101 non-null    uint8         \n",
            " 22  Aut.Panc_Recurred After Surgery           101 non-null    uint8         \n",
            " 23  Aut.Panc_Resected (Total Pancreatectomy)  101 non-null    uint8         \n",
            "dtypes: datetime64[ns](2), float64(9), int64(3), uint8(10)\n",
            "memory usage: 12.2 KB\n"
          ]
        }
      ]
    },
    {
      "cell_type": "code",
      "source": [
        "(DataDummies.iloc[:,4]).values.reshape(1,-1)"
      ],
      "metadata": {
        "colab": {
          "base_uri": "https://localhost:8080/"
        },
        "id": "oIvUvm-NN1dM",
        "outputId": "26eed2b2-5cb0-4327-a3ec-015d28e8f70b"
      },
      "execution_count": null,
      "outputs": [
        {
          "output_type": "execute_result",
          "data": {
            "text/plain": [
              "array([[ nan,  7. ,  4. ,  nan,  nan,  nan,  nan,  nan,  nan,  nan,  7. ,\n",
              "         nan,  4.6,  nan,  1.7,  nan,  nan,  nan,  3.5,  3. ,  nan,  3.8,\n",
              "         nan,  4.4,  nan,  nan, 11. ,  6.5,  5. ,  nan,  nan,  nan,  6.1,\n",
              "         nan,  nan,  nan,  nan,  4.7,  nan,  1. ,  2. ,  nan,  nan,  1.6,\n",
              "         nan,  nan,  nan,  nan,  3.3,  nan,  nan,  5.3,  5.1,  nan,  nan,\n",
              "         nan,  nan,  nan,  4.5,  nan,  nan,  nan,  nan,  2. ,  nan,  3. ,\n",
              "         nan,  nan,  5.1,  nan,  1.7,  nan,  3.8,  3.2,  nan,  nan,  nan,\n",
              "         nan,  2.9,  nan,  nan,  nan,  nan,  nan,  4.5,  5.5,  4.5,  2.3,\n",
              "         2.3,  2. ,  nan,  3.3,  2.8,  nan,  1.8,  3.1,  nan,  nan,  3. ,\n",
              "         2.6,  nan]])"
            ]
          },
          "metadata": {},
          "execution_count": 10
        }
      ]
    },
    {
      "cell_type": "code",
      "source": [
        "import sklearn\n",
        "from sklearn.impute import SimpleImputer\n",
        "imputer = SimpleImputer(missing_values=np.nan, strategy = 'mean')\n",
        "imputer.fit(DataDummies.iloc[:,-4:])\n",
        "imputer.transform(DataDummies.iloc[:,-4:])"
      ],
      "metadata": {
        "colab": {
          "base_uri": "https://localhost:8080/"
        },
        "id": "A5gmXfrUzg6o",
        "outputId": "dbd35d37-950e-4c8b-9978-7673b61a5247"
      },
      "execution_count": null,
      "outputs": [
        {
          "output_type": "execute_result",
          "data": {
            "text/plain": [
              "array([[0., 1., 0., 0.],\n",
              "       [0., 1., 0., 0.],\n",
              "       [0., 1., 0., 0.],\n",
              "       [0., 1., 0., 0.],\n",
              "       [0., 1., 0., 0.],\n",
              "       [0., 1., 0., 0.],\n",
              "       [0., 1., 0., 0.],\n",
              "       [0., 1., 0., 0.],\n",
              "       [0., 1., 0., 0.],\n",
              "       [0., 1., 0., 0.],\n",
              "       [0., 1., 0., 0.],\n",
              "       [0., 1., 0., 0.],\n",
              "       [0., 1., 0., 0.],\n",
              "       [0., 1., 0., 0.],\n",
              "       [0., 0., 1., 0.],\n",
              "       [0., 1., 0., 0.],\n",
              "       [0., 1., 0., 0.],\n",
              "       [0., 0., 0., 0.],\n",
              "       [0., 0., 1., 0.],\n",
              "       [0., 0., 1., 0.],\n",
              "       [0., 1., 0., 0.],\n",
              "       [0., 1., 0., 0.],\n",
              "       [0., 0., 1., 0.],\n",
              "       [0., 0., 1., 0.],\n",
              "       [0., 1., 0., 0.],\n",
              "       [0., 1., 0., 0.],\n",
              "       [0., 1., 0., 0.],\n",
              "       [0., 1., 0., 0.],\n",
              "       [0., 0., 1., 0.],\n",
              "       [0., 1., 0., 0.],\n",
              "       [0., 1., 0., 0.],\n",
              "       [0., 1., 0., 0.],\n",
              "       [0., 1., 0., 0.],\n",
              "       [0., 0., 1., 0.],\n",
              "       [0., 1., 0., 0.],\n",
              "       [0., 1., 0., 0.],\n",
              "       [0., 0., 1., 0.],\n",
              "       [0., 1., 0., 0.],\n",
              "       [0., 1., 0., 0.],\n",
              "       [0., 0., 1., 0.],\n",
              "       [0., 0., 1., 0.],\n",
              "       [0., 1., 0., 0.],\n",
              "       [0., 1., 0., 0.],\n",
              "       [0., 0., 1., 0.],\n",
              "       [0., 1., 0., 0.],\n",
              "       [0., 1., 0., 0.],\n",
              "       [0., 1., 0., 0.],\n",
              "       [0., 1., 0., 0.],\n",
              "       [1., 0., 0., 0.],\n",
              "       [0., 1., 0., 0.],\n",
              "       [0., 1., 0., 0.],\n",
              "       [0., 1., 0., 0.],\n",
              "       [0., 1., 0., 0.],\n",
              "       [0., 1., 0., 0.],\n",
              "       [0., 1., 0., 0.],\n",
              "       [0., 0., 0., 0.],\n",
              "       [0., 0., 0., 0.],\n",
              "       [0., 1., 0., 0.],\n",
              "       [0., 0., 1., 0.],\n",
              "       [0., 0., 0., 0.],\n",
              "       [0., 1., 0., 0.],\n",
              "       [0., 1., 0., 0.],\n",
              "       [0., 1., 0., 0.],\n",
              "       [0., 0., 1., 0.],\n",
              "       [0., 1., 0., 0.],\n",
              "       [0., 0., 1., 0.],\n",
              "       [0., 1., 0., 0.],\n",
              "       [0., 1., 0., 0.],\n",
              "       [0., 1., 0., 0.],\n",
              "       [0., 1., 0., 0.],\n",
              "       [0., 0., 1., 0.],\n",
              "       [0., 0., 1., 0.],\n",
              "       [0., 0., 1., 0.],\n",
              "       [0., 1., 0., 0.],\n",
              "       [0., 1., 0., 0.],\n",
              "       [0., 1., 0., 0.],\n",
              "       [0., 1., 0., 0.],\n",
              "       [0., 1., 0., 0.],\n",
              "       [0., 1., 0., 0.],\n",
              "       [0., 1., 0., 0.],\n",
              "       [0., 1., 0., 0.],\n",
              "       [0., 1., 0., 0.],\n",
              "       [0., 1., 0., 0.],\n",
              "       [0., 1., 0., 0.],\n",
              "       [0., 1., 0., 0.],\n",
              "       [0., 1., 0., 0.],\n",
              "       [0., 1., 0., 0.],\n",
              "       [0., 1., 0., 0.],\n",
              "       [0., 0., 1., 0.],\n",
              "       [0., 0., 1., 0.],\n",
              "       [0., 0., 0., 1.],\n",
              "       [0., 1., 0., 0.],\n",
              "       [0., 0., 1., 0.],\n",
              "       [0., 1., 0., 0.],\n",
              "       [0., 1., 0., 0.],\n",
              "       [0., 1., 0., 0.],\n",
              "       [0., 1., 0., 0.],\n",
              "       [0., 1., 0., 0.],\n",
              "       [0., 1., 0., 0.],\n",
              "       [0., 1., 0., 0.],\n",
              "       [0., 1., 0., 0.]])"
            ]
          },
          "metadata": {},
          "execution_count": 11
        }
      ]
    },
    {
      "cell_type": "code",
      "source": [
        "import sklearn\n",
        "from sklearn.impute import SimpleImputer\n",
        "imputer = SimpleImputer(missing_values=np.nan, strategy = 'mean')\n",
        "imputer.fit(DataDummies.iloc[:,3:7])\n",
        "DataDummies.iloc[:,3:7] = imputer.transform(DataDummies.iloc[:,3:7])"
      ],
      "metadata": {
        "id": "Cw2pw9VSQK7S"
      },
      "execution_count": null,
      "outputs": []
    },
    {
      "cell_type": "code",
      "source": [
        "import sklearn\n",
        "from sklearn.impute import SimpleImputer\n",
        "imputer = SimpleImputer(missing_values=np.nan, strategy = 'mean')\n",
        "imputer.fit(DataDummies.iloc[:,8:12])\n",
        "DataDummies.iloc[:,8:12] = imputer.transform(DataDummies.iloc[:,8:12])"
      ],
      "metadata": {
        "id": "M7Cn6pH2QoHa"
      },
      "execution_count": null,
      "outputs": []
    },
    {
      "cell_type": "code",
      "source": [
        "DataDummies.info()"
      ],
      "metadata": {
        "colab": {
          "base_uri": "https://localhost:8080/"
        },
        "id": "Zh9-KcuNXUbV",
        "outputId": "8e111a8f-43b8-428b-b643-185db7984680"
      },
      "execution_count": null,
      "outputs": [
        {
          "output_type": "stream",
          "name": "stdout",
          "text": [
            "<class 'pandas.core.frame.DataFrame'>\n",
            "RangeIndex: 101 entries, 0 to 100\n",
            "Data columns (total 24 columns):\n",
            " #   Column                                    Non-Null Count  Dtype         \n",
            "---  ------                                    --------------  -----         \n",
            " 0   Dx.Age                                    101 non-null    int64         \n",
            " 1   Dx.Date                                   101 non-null    datetime64[ns]\n",
            " 2   Dx.SzPrim.cm                              101 non-null    float64       \n",
            " 3   Dx.SzMetsLargest.cm                       101 non-null    float64       \n",
            " 4   RPP.SzPanc.cm                             101 non-null    float64       \n",
            " 5   MR.SzMetsLargest.cm                       101 non-null    float64       \n",
            " 6   MP.SzMetsLargest.cm                       101 non-null    float64       \n",
            " 7   Aut.DateDeath                             101 non-null    datetime64[ns]\n",
            " 8   Aut.SzPrim.cm                             101 non-null    float64       \n",
            " 9   Aut.MeanSzMets.cm                         101 non-null    float64       \n",
            " 10  Aut.minSzMetsRange.cm                     101 non-null    float64       \n",
            " 11  Aut.maxSzMetsRange.cm                     101 non-null    float64       \n",
            " 12  timeline                                  101 non-null    int64         \n",
            " 13  result                                    101 non-null    int64         \n",
            " 14  Dx.WasPrimExcis_No                        101 non-null    uint8         \n",
            " 15  Dx.WasPrimExcis_Yes                       101 non-null    uint8         \n",
            " 16  RPP.remark_No                             101 non-null    uint8         \n",
            " 17  RPP.remark_Yes                            101 non-null    uint8         \n",
            " 18  RPP.remark_no data                        101 non-null    uint8         \n",
            " 19  Aut.Panc_Absent (Resected)                101 non-null    uint8         \n",
            " 20  Aut.Panc_Absent (Treated)                 101 non-null    uint8         \n",
            " 21  Aut.Panc_Present (Not Resected)           101 non-null    uint8         \n",
            " 22  Aut.Panc_Recurred After Surgery           101 non-null    uint8         \n",
            " 23  Aut.Panc_Resected (Total Pancreatectomy)  101 non-null    uint8         \n",
            "dtypes: datetime64[ns](2), float64(9), int64(3), uint8(10)\n",
            "memory usage: 12.2 KB\n"
          ]
        }
      ]
    },
    {
      "cell_type": "code",
      "source": [
        "DataDummies.drop(['Dx.Date'], axis = 1, inplace = True )\n",
        "DataDummies.drop(['Aut.DateDeath'], axis = 1, inplace = True )\n"
      ],
      "metadata": {
        "id": "ZtZBpQl111Is"
      },
      "execution_count": null,
      "outputs": []
    },
    {
      "cell_type": "code",
      "source": [
        "DataDummies.head()"
      ],
      "metadata": {
        "colab": {
          "base_uri": "https://localhost:8080/",
          "height": 334
        },
        "id": "lav5oUReP5nm",
        "outputId": "ce423df9-3889-4056-ff83-3b5b4ac74d93"
      },
      "execution_count": null,
      "outputs": [
        {
          "output_type": "execute_result",
          "data": {
            "text/plain": [
              "   Dx.Age  Dx.SzPrim.cm  Dx.SzMetsLargest.cm  RPP.SzPanc.cm  \\\n",
              "0      84           6.0             2.458333         3.8625   \n",
              "1      62           3.0             2.000000         7.0000   \n",
              "2      67           2.0             2.000000         4.0000   \n",
              "3      47           5.0             2.458333         3.8625   \n",
              "4      57           4.0             1.000000         3.8625   \n",
              "\n",
              "   MR.SzMetsLargest.cm  MP.SzMetsLargest.cm  Aut.SzPrim.cm  Aut.MeanSzMets.cm  \\\n",
              "0             1.826098             3.726923            6.0           1.000000   \n",
              "1             5.000000             3.726923            4.0           0.300000   \n",
              "2             2.900000             5.000000            4.0           3.000000   \n",
              "3             1.826098             3.726923            5.0           1.332143   \n",
              "4             1.826098             2.000000            5.0           0.500000   \n",
              "\n",
              "   Aut.minSzMetsRange.cm  Aut.maxSzMetsRange.cm  ...  Dx.WasPrimExcis_No  \\\n",
              "0               0.500000               2.800000  ...                   1   \n",
              "1               0.200000               2.000000  ...                   1   \n",
              "2               1.000000               5.000000  ...                   1   \n",
              "3               0.559036               3.236145  ...                   1   \n",
              "4               0.200000               2.000000  ...                   1   \n",
              "\n",
              "   Dx.WasPrimExcis_Yes  RPP.remark_No  RPP.remark_Yes  RPP.remark_no data  \\\n",
              "0                    0              0               0                   1   \n",
              "1                    0              0               1                   0   \n",
              "2                    0              0               1                   0   \n",
              "3                    0              1               0                   0   \n",
              "4                    0              1               0                   0   \n",
              "\n",
              "   Aut.Panc_Absent (Resected)  Aut.Panc_Absent (Treated)  \\\n",
              "0                           0                          0   \n",
              "1                           0                          0   \n",
              "2                           0                          0   \n",
              "3                           0                          0   \n",
              "4                           0                          0   \n",
              "\n",
              "   Aut.Panc_Present (Not Resected)  Aut.Panc_Recurred After Surgery  \\\n",
              "0                                1                                0   \n",
              "1                                1                                0   \n",
              "2                                1                                0   \n",
              "3                                1                                0   \n",
              "4                                1                                0   \n",
              "\n",
              "   Aut.Panc_Resected (Total Pancreatectomy)  \n",
              "0                                         0  \n",
              "1                                         0  \n",
              "2                                         0  \n",
              "3                                         0  \n",
              "4                                         0  \n",
              "\n",
              "[5 rows x 22 columns]"
            ],
            "text/html": [
              "\n",
              "  <div id=\"df-22f27475-79f2-4115-9037-cee0659983fe\">\n",
              "    <div class=\"colab-df-container\">\n",
              "      <div>\n",
              "<style scoped>\n",
              "    .dataframe tbody tr th:only-of-type {\n",
              "        vertical-align: middle;\n",
              "    }\n",
              "\n",
              "    .dataframe tbody tr th {\n",
              "        vertical-align: top;\n",
              "    }\n",
              "\n",
              "    .dataframe thead th {\n",
              "        text-align: right;\n",
              "    }\n",
              "</style>\n",
              "<table border=\"1\" class=\"dataframe\">\n",
              "  <thead>\n",
              "    <tr style=\"text-align: right;\">\n",
              "      <th></th>\n",
              "      <th>Dx.Age</th>\n",
              "      <th>Dx.SzPrim.cm</th>\n",
              "      <th>Dx.SzMetsLargest.cm</th>\n",
              "      <th>RPP.SzPanc.cm</th>\n",
              "      <th>MR.SzMetsLargest.cm</th>\n",
              "      <th>MP.SzMetsLargest.cm</th>\n",
              "      <th>Aut.SzPrim.cm</th>\n",
              "      <th>Aut.MeanSzMets.cm</th>\n",
              "      <th>Aut.minSzMetsRange.cm</th>\n",
              "      <th>Aut.maxSzMetsRange.cm</th>\n",
              "      <th>...</th>\n",
              "      <th>Dx.WasPrimExcis_No</th>\n",
              "      <th>Dx.WasPrimExcis_Yes</th>\n",
              "      <th>RPP.remark_No</th>\n",
              "      <th>RPP.remark_Yes</th>\n",
              "      <th>RPP.remark_no data</th>\n",
              "      <th>Aut.Panc_Absent (Resected)</th>\n",
              "      <th>Aut.Panc_Absent (Treated)</th>\n",
              "      <th>Aut.Panc_Present (Not Resected)</th>\n",
              "      <th>Aut.Panc_Recurred After Surgery</th>\n",
              "      <th>Aut.Panc_Resected (Total Pancreatectomy)</th>\n",
              "    </tr>\n",
              "  </thead>\n",
              "  <tbody>\n",
              "    <tr>\n",
              "      <th>0</th>\n",
              "      <td>84</td>\n",
              "      <td>6.0</td>\n",
              "      <td>2.458333</td>\n",
              "      <td>3.8625</td>\n",
              "      <td>1.826098</td>\n",
              "      <td>3.726923</td>\n",
              "      <td>6.0</td>\n",
              "      <td>1.000000</td>\n",
              "      <td>0.500000</td>\n",
              "      <td>2.800000</td>\n",
              "      <td>...</td>\n",
              "      <td>1</td>\n",
              "      <td>0</td>\n",
              "      <td>0</td>\n",
              "      <td>0</td>\n",
              "      <td>1</td>\n",
              "      <td>0</td>\n",
              "      <td>0</td>\n",
              "      <td>1</td>\n",
              "      <td>0</td>\n",
              "      <td>0</td>\n",
              "    </tr>\n",
              "    <tr>\n",
              "      <th>1</th>\n",
              "      <td>62</td>\n",
              "      <td>3.0</td>\n",
              "      <td>2.000000</td>\n",
              "      <td>7.0000</td>\n",
              "      <td>5.000000</td>\n",
              "      <td>3.726923</td>\n",
              "      <td>4.0</td>\n",
              "      <td>0.300000</td>\n",
              "      <td>0.200000</td>\n",
              "      <td>2.000000</td>\n",
              "      <td>...</td>\n",
              "      <td>1</td>\n",
              "      <td>0</td>\n",
              "      <td>0</td>\n",
              "      <td>1</td>\n",
              "      <td>0</td>\n",
              "      <td>0</td>\n",
              "      <td>0</td>\n",
              "      <td>1</td>\n",
              "      <td>0</td>\n",
              "      <td>0</td>\n",
              "    </tr>\n",
              "    <tr>\n",
              "      <th>2</th>\n",
              "      <td>67</td>\n",
              "      <td>2.0</td>\n",
              "      <td>2.000000</td>\n",
              "      <td>4.0000</td>\n",
              "      <td>2.900000</td>\n",
              "      <td>5.000000</td>\n",
              "      <td>4.0</td>\n",
              "      <td>3.000000</td>\n",
              "      <td>1.000000</td>\n",
              "      <td>5.000000</td>\n",
              "      <td>...</td>\n",
              "      <td>1</td>\n",
              "      <td>0</td>\n",
              "      <td>0</td>\n",
              "      <td>1</td>\n",
              "      <td>0</td>\n",
              "      <td>0</td>\n",
              "      <td>0</td>\n",
              "      <td>1</td>\n",
              "      <td>0</td>\n",
              "      <td>0</td>\n",
              "    </tr>\n",
              "    <tr>\n",
              "      <th>3</th>\n",
              "      <td>47</td>\n",
              "      <td>5.0</td>\n",
              "      <td>2.458333</td>\n",
              "      <td>3.8625</td>\n",
              "      <td>1.826098</td>\n",
              "      <td>3.726923</td>\n",
              "      <td>5.0</td>\n",
              "      <td>1.332143</td>\n",
              "      <td>0.559036</td>\n",
              "      <td>3.236145</td>\n",
              "      <td>...</td>\n",
              "      <td>1</td>\n",
              "      <td>0</td>\n",
              "      <td>1</td>\n",
              "      <td>0</td>\n",
              "      <td>0</td>\n",
              "      <td>0</td>\n",
              "      <td>0</td>\n",
              "      <td>1</td>\n",
              "      <td>0</td>\n",
              "      <td>0</td>\n",
              "    </tr>\n",
              "    <tr>\n",
              "      <th>4</th>\n",
              "      <td>57</td>\n",
              "      <td>4.0</td>\n",
              "      <td>1.000000</td>\n",
              "      <td>3.8625</td>\n",
              "      <td>1.826098</td>\n",
              "      <td>2.000000</td>\n",
              "      <td>5.0</td>\n",
              "      <td>0.500000</td>\n",
              "      <td>0.200000</td>\n",
              "      <td>2.000000</td>\n",
              "      <td>...</td>\n",
              "      <td>1</td>\n",
              "      <td>0</td>\n",
              "      <td>1</td>\n",
              "      <td>0</td>\n",
              "      <td>0</td>\n",
              "      <td>0</td>\n",
              "      <td>0</td>\n",
              "      <td>1</td>\n",
              "      <td>0</td>\n",
              "      <td>0</td>\n",
              "    </tr>\n",
              "  </tbody>\n",
              "</table>\n",
              "<p>5 rows × 22 columns</p>\n",
              "</div>\n",
              "      <button class=\"colab-df-convert\" onclick=\"convertToInteractive('df-22f27475-79f2-4115-9037-cee0659983fe')\"\n",
              "              title=\"Convert this dataframe to an interactive table.\"\n",
              "              style=\"display:none;\">\n",
              "        \n",
              "  <svg xmlns=\"http://www.w3.org/2000/svg\" height=\"24px\"viewBox=\"0 0 24 24\"\n",
              "       width=\"24px\">\n",
              "    <path d=\"M0 0h24v24H0V0z\" fill=\"none\"/>\n",
              "    <path d=\"M18.56 5.44l.94 2.06.94-2.06 2.06-.94-2.06-.94-.94-2.06-.94 2.06-2.06.94zm-11 1L8.5 8.5l.94-2.06 2.06-.94-2.06-.94L8.5 2.5l-.94 2.06-2.06.94zm10 10l.94 2.06.94-2.06 2.06-.94-2.06-.94-.94-2.06-.94 2.06-2.06.94z\"/><path d=\"M17.41 7.96l-1.37-1.37c-.4-.4-.92-.59-1.43-.59-.52 0-1.04.2-1.43.59L10.3 9.45l-7.72 7.72c-.78.78-.78 2.05 0 2.83L4 21.41c.39.39.9.59 1.41.59.51 0 1.02-.2 1.41-.59l7.78-7.78 2.81-2.81c.8-.78.8-2.07 0-2.86zM5.41 20L4 18.59l7.72-7.72 1.47 1.35L5.41 20z\"/>\n",
              "  </svg>\n",
              "      </button>\n",
              "      \n",
              "  <style>\n",
              "    .colab-df-container {\n",
              "      display:flex;\n",
              "      flex-wrap:wrap;\n",
              "      gap: 12px;\n",
              "    }\n",
              "\n",
              "    .colab-df-convert {\n",
              "      background-color: #E8F0FE;\n",
              "      border: none;\n",
              "      border-radius: 50%;\n",
              "      cursor: pointer;\n",
              "      display: none;\n",
              "      fill: #1967D2;\n",
              "      height: 32px;\n",
              "      padding: 0 0 0 0;\n",
              "      width: 32px;\n",
              "    }\n",
              "\n",
              "    .colab-df-convert:hover {\n",
              "      background-color: #E2EBFA;\n",
              "      box-shadow: 0px 1px 2px rgba(60, 64, 67, 0.3), 0px 1px 3px 1px rgba(60, 64, 67, 0.15);\n",
              "      fill: #174EA6;\n",
              "    }\n",
              "\n",
              "    [theme=dark] .colab-df-convert {\n",
              "      background-color: #3B4455;\n",
              "      fill: #D2E3FC;\n",
              "    }\n",
              "\n",
              "    [theme=dark] .colab-df-convert:hover {\n",
              "      background-color: #434B5C;\n",
              "      box-shadow: 0px 1px 3px 1px rgba(0, 0, 0, 0.15);\n",
              "      filter: drop-shadow(0px 1px 2px rgba(0, 0, 0, 0.3));\n",
              "      fill: #FFFFFF;\n",
              "    }\n",
              "  </style>\n",
              "\n",
              "      <script>\n",
              "        const buttonEl =\n",
              "          document.querySelector('#df-22f27475-79f2-4115-9037-cee0659983fe button.colab-df-convert');\n",
              "        buttonEl.style.display =\n",
              "          google.colab.kernel.accessAllowed ? 'block' : 'none';\n",
              "\n",
              "        async function convertToInteractive(key) {\n",
              "          const element = document.querySelector('#df-22f27475-79f2-4115-9037-cee0659983fe');\n",
              "          const dataTable =\n",
              "            await google.colab.kernel.invokeFunction('convertToInteractive',\n",
              "                                                     [key], {});\n",
              "          if (!dataTable) return;\n",
              "\n",
              "          const docLinkHtml = 'Like what you see? Visit the ' +\n",
              "            '<a target=\"_blank\" href=https://colab.research.google.com/notebooks/data_table.ipynb>data table notebook</a>'\n",
              "            + ' to learn more about interactive tables.';\n",
              "          element.innerHTML = '';\n",
              "          dataTable['output_type'] = 'display_data';\n",
              "          await google.colab.output.renderOutput(dataTable, element);\n",
              "          const docLink = document.createElement('div');\n",
              "          docLink.innerHTML = docLinkHtml;\n",
              "          element.appendChild(docLink);\n",
              "        }\n",
              "      </script>\n",
              "    </div>\n",
              "  </div>\n",
              "  "
            ]
          },
          "metadata": {},
          "execution_count": 16
        }
      ]
    },
    {
      "cell_type": "code",
      "source": [
        "DataDummies.info()"
      ],
      "metadata": {
        "colab": {
          "base_uri": "https://localhost:8080/"
        },
        "id": "-jlIpPKH2QtV",
        "outputId": "e6ab6866-fd5e-4043-c792-d3d711426bb0"
      },
      "execution_count": null,
      "outputs": [
        {
          "output_type": "stream",
          "name": "stdout",
          "text": [
            "<class 'pandas.core.frame.DataFrame'>\n",
            "RangeIndex: 101 entries, 0 to 100\n",
            "Data columns (total 22 columns):\n",
            " #   Column                                    Non-Null Count  Dtype  \n",
            "---  ------                                    --------------  -----  \n",
            " 0   Dx.Age                                    101 non-null    int64  \n",
            " 1   Dx.SzPrim.cm                              101 non-null    float64\n",
            " 2   Dx.SzMetsLargest.cm                       101 non-null    float64\n",
            " 3   RPP.SzPanc.cm                             101 non-null    float64\n",
            " 4   MR.SzMetsLargest.cm                       101 non-null    float64\n",
            " 5   MP.SzMetsLargest.cm                       101 non-null    float64\n",
            " 6   Aut.SzPrim.cm                             101 non-null    float64\n",
            " 7   Aut.MeanSzMets.cm                         101 non-null    float64\n",
            " 8   Aut.minSzMetsRange.cm                     101 non-null    float64\n",
            " 9   Aut.maxSzMetsRange.cm                     101 non-null    float64\n",
            " 10  timeline                                  101 non-null    int64  \n",
            " 11  result                                    101 non-null    int64  \n",
            " 12  Dx.WasPrimExcis_No                        101 non-null    uint8  \n",
            " 13  Dx.WasPrimExcis_Yes                       101 non-null    uint8  \n",
            " 14  RPP.remark_No                             101 non-null    uint8  \n",
            " 15  RPP.remark_Yes                            101 non-null    uint8  \n",
            " 16  RPP.remark_no data                        101 non-null    uint8  \n",
            " 17  Aut.Panc_Absent (Resected)                101 non-null    uint8  \n",
            " 18  Aut.Panc_Absent (Treated)                 101 non-null    uint8  \n",
            " 19  Aut.Panc_Present (Not Resected)           101 non-null    uint8  \n",
            " 20  Aut.Panc_Recurred After Surgery           101 non-null    uint8  \n",
            " 21  Aut.Panc_Resected (Total Pancreatectomy)  101 non-null    uint8  \n",
            "dtypes: float64(9), int64(3), uint8(10)\n",
            "memory usage: 10.6 KB\n"
          ]
        }
      ]
    },
    {
      "cell_type": "code",
      "source": [
        "df = np.array(DataDummies)\n",
        "i1 = df[:,:10]\n",
        "i2 = df[:,11:]\n",
        "X = np.concatenate((i1,i2),axis = 1)\n",
        "y = df[:,10]"
      ],
      "metadata": {
        "id": "5Lp-6Np18gKN"
      },
      "execution_count": null,
      "outputs": []
    },
    {
      "cell_type": "markdown",
      "source": [
        "Train, test splitting"
      ],
      "metadata": {
        "id": "ZYM6I9KQ8x0e"
      }
    },
    {
      "cell_type": "code",
      "source": [
        "from sklearn.model_selection import train_test_split\n",
        "\n",
        "X_train, X_test, y_train, y_test = train_test_split(X, y, test_size = 0.2, random_state = 1)"
      ],
      "metadata": {
        "id": "nIXoZgLqVU_s"
      },
      "execution_count": null,
      "outputs": []
    },
    {
      "cell_type": "markdown",
      "source": [
        "Linear Regression"
      ],
      "metadata": {
        "id": "62wYN-Rf813T"
      }
    },
    {
      "cell_type": "code",
      "source": [
        "from sklearn.linear_model import LinearRegression\n",
        "reg = LinearRegression()\n",
        "reg.fit(X_train,y_train)"
      ],
      "metadata": {
        "colab": {
          "base_uri": "https://localhost:8080/"
        },
        "id": "z2JBMl83x7E4",
        "outputId": "072ab118-7dde-488f-e75f-adf7f41f0ce6"
      },
      "execution_count": null,
      "outputs": [
        {
          "output_type": "execute_result",
          "data": {
            "text/plain": [
              "LinearRegression()"
            ]
          },
          "metadata": {},
          "execution_count": 20
        }
      ]
    },
    {
      "cell_type": "code",
      "source": [
        "pred = reg.predict(X_test)"
      ],
      "metadata": {
        "id": "DKkU4kGU1a5D"
      },
      "execution_count": null,
      "outputs": []
    },
    {
      "cell_type": "code",
      "source": [
        "import matplotlib.pyplot as plt\n",
        "plt.plot(y_test)\n",
        "plt.plot(pred)\n"
      ],
      "metadata": {
        "id": "HXntTR713KEB",
        "colab": {
          "base_uri": "https://localhost:8080/",
          "height": 282
        },
        "outputId": "996a15d0-baeb-4ba4-b787-15793b226f16"
      },
      "execution_count": null,
      "outputs": [
        {
          "output_type": "execute_result",
          "data": {
            "text/plain": [
              "[<matplotlib.lines.Line2D at 0x7f0e0cfaf910>]"
            ]
          },
          "metadata": {},
          "execution_count": 22
        },
        {
          "output_type": "display_data",
          "data": {
            "text/plain": [
              "<Figure size 432x288 with 1 Axes>"
            ],
            "image/png": "[encoded data removed]"
          },
          "metadata": {
            "needs_background": "light"
          }
        }
      ]
    },
    {
      "cell_type": "code",
      "source": [
        "from sklearn.metrics import r2_score\n",
        "r2 = r2_score(y_test,pred)\n",
        "print(r2)"
      ],
      "metadata": {
        "colab": {
          "base_uri": "https://localhost:8080/"
        },
        "id": "Klh_lqZeZk1X",
        "outputId": "a7c60e52-f0c8-4a9c-d65f-c48c6235c458"
      },
      "execution_count": null,
      "outputs": [
        {
          "output_type": "stream",
          "name": "stdout",
          "text": [
            "-0.09489385898944058\n"
          ]
        }
      ]
    },
    {
      "cell_type": "markdown",
      "source": [
        "Random Forest Regressor"
      ],
      "metadata": {
        "id": "9mEQjy7y86Ik"
      }
    },
    {
      "cell_type": "code",
      "source": [
        "from sklearn.ensemble import RandomForestRegressor\n",
        "Regressor = RandomForestRegressor(n_estimators = 10, random_state = 0)\n",
        "Regressor.fit(X_train, y_train)"
      ],
      "metadata": {
        "colab": {
          "base_uri": "https://localhost:8080/"
        },
        "id": "gvgAIAGe5m8C",
        "outputId": "b31686ab-5ef3-40b6-bd2a-a9de5db7dc99"
      },
      "execution_count": null,
      "outputs": [
        {
          "output_type": "execute_result",
          "data": {
            "text/plain": [
              "RandomForestRegressor(n_estimators=10, random_state=0)"
            ]
          },
          "metadata": {},
          "execution_count": 24
        }
      ]
    },
    {
      "cell_type": "code",
      "source": [
        "p = Regressor.predict(X_test)\n",
        "plt.plot(y_test)\n",
        "plt.plot(p,'o:m')"
      ],
      "metadata": {
        "colab": {
          "base_uri": "https://localhost:8080/",
          "height": 282
        },
        "id": "r4mNcEdUofua",
        "outputId": "040cdc1e-a755-44d8-b77c-a6704c9cc2bf"
      },
      "execution_count": null,
      "outputs": [
        {
          "output_type": "execute_result",
          "data": {
            "text/plain": [
              "[<matplotlib.lines.Line2D at 0x7f0e0c15f190>]"
            ]
          },
          "metadata": {},
          "execution_count": 25
        },
        {
          "output_type": "display_data",
          "data": {
            "text/plain": [
              "<Figure size 432x288 with 1 Axes>"
            ],
            "image/png": "[encoded data removed]"
          },
          "metadata": {
            "needs_background": "light"
          }
        }
      ]
    },
    {
      "cell_type": "code",
      "source": [
        "from sklearn.metrics import r2_score\n",
        "r2 = r2_score(y_test,p)\n",
        "print(r2)"
      ],
      "metadata": {
        "colab": {
          "base_uri": "https://localhost:8080/"
        },
        "id": "4amZkGEDDQn8",
        "outputId": "56284c73-a22d-4767-9cb0-737c5b0a74c3"
      },
      "execution_count": null,
      "outputs": [
        {
          "output_type": "stream",
          "name": "stdout",
          "text": [
            "0.17724404553498196\n"
          ]
        }
      ]
    },
    {
      "cell_type": "markdown",
      "source": [
        "Kaplan meier estimator"
      ],
      "metadata": {
        "id": "4yX9nd8UUgKf"
      }
    },
    {
      "cell_type": "code",
      "source": [
        "!pip install lifelines"
      ],
      "metadata": {
        "colab": {
          "base_uri": "https://localhost:8080/",
          "height": 852
        },
        "id": "U_PeohvbU985",
        "outputId": "0f0c3d57-93c3-46a5-8ac7-7d577bbd8a13"
      },
      "execution_count": null,
      "outputs": [
        {
          "output_type": "stream",
          "name": "stdout",
          "text": [
            "Looking in indexes: https://pypi.org/simple, https://us-python.pkg.dev/colab-wheels/public/simple/\n",
            "Collecting lifelines\n",
            "  Downloading lifelines-0.27.0-py3-none-any.whl (349 kB)\n",
            "\u001b[K     |████████████████████████████████| 349 kB 5.3 MB/s \n",
            "\u001b[?25hRequirement already satisfied: matplotlib>=3.0 in /usr/local/lib/python3.7/dist-packages (from lifelines) (3.2.2)\n",
            "Requirement already satisfied: autograd>=1.3 in /usr/local/lib/python3.7/dist-packages (from lifelines) (1.4)\n",
            "Requirement already satisfied: numpy>=1.14.0 in /usr/local/lib/python3.7/dist-packages (from lifelines) (1.21.6)\n",
            "Collecting autograd-gamma>=0.3\n",
            "  Downloading autograd-gamma-0.5.0.tar.gz (4.0 kB)\n",
            "Collecting formulaic>=0.2.2\n",
            "  Downloading formulaic-0.3.4-py3-none-any.whl (68 kB)\n",
            "\u001b[K     |████████████████████████████████| 68 kB 5.4 MB/s \n",
            "\u001b[?25hRequirement already satisfied: scipy>=1.2.0 in /usr/local/lib/python3.7/dist-packages (from lifelines) (1.4.1)\n",
            "Requirement already satisfied: pandas>=1.0.0 in /usr/local/lib/python3.7/dist-packages (from lifelines) (1.3.5)\n",
            "Requirement already satisfied: future>=0.15.2 in /usr/local/lib/python3.7/dist-packages (from autograd>=1.3->lifelines) (0.16.0)\n",
            "Collecting scipy>=1.2.0\n",
            "  Downloading scipy-1.7.3-cp37-cp37m-manylinux_2_12_x86_64.manylinux2010_x86_64.whl (38.1 MB)\n",
            "\u001b[K     |████████████████████████████████| 38.1 MB 31.4 MB/s \n",
            "\u001b[?25hRequirement already satisfied: wrapt>=1.0 in /usr/local/lib/python3.7/dist-packages (from formulaic>=0.2.2->lifelines) (1.14.1)\n",
            "Requirement already satisfied: astor>=0.8 in /usr/local/lib/python3.7/dist-packages (from formulaic>=0.2.2->lifelines) (0.8.1)\n",
            "Collecting interface-meta<2.0.0,>=1.2.0\n",
            "  Downloading interface_meta-1.3.0-py3-none-any.whl (14 kB)\n",
            "Requirement already satisfied: kiwisolver>=1.0.1 in /usr/local/lib/python3.7/dist-packages (from matplotlib>=3.0->lifelines) (1.4.2)\n",
            "Requirement already satisfied: cycler>=0.10 in /usr/local/lib/python3.7/dist-packages (from matplotlib>=3.0->lifelines) (0.11.0)\n",
            "Requirement already satisfied: python-dateutil>=2.1 in /usr/local/lib/python3.7/dist-packages (from matplotlib>=3.0->lifelines) (2.8.2)\n",
            "Requirement already satisfied: pyparsing!=2.0.4,!=2.1.2,!=2.1.6,>=2.0.1 in /usr/local/lib/python3.7/dist-packages (from matplotlib>=3.0->lifelines) (3.0.9)\n",
            "Requirement already satisfied: typing-extensions in /usr/local/lib/python3.7/dist-packages (from kiwisolver>=1.0.1->matplotlib>=3.0->lifelines) (4.2.0)\n",
            "Requirement already satisfied: pytz>=2017.3 in /usr/local/lib/python3.7/dist-packages (from pandas>=1.0.0->lifelines) (2022.1)\n",
            "Requirement already satisfied: six>=1.5 in /usr/local/lib/python3.7/dist-packages (from python-dateutil>=2.1->matplotlib>=3.0->lifelines) (1.15.0)\n",
            "Building wheels for collected packages: autograd-gamma\n",
            "  Building wheel for autograd-gamma (setup.py) ... \u001b[?25l\u001b[?25hdone\n",
            "  Created wheel for autograd-gamma: filename=autograd_gamma-0.5.0-py3-none-any.whl size=4048 sha256=90420dddcff8ec8313d2a3b3116ac230c9e736ac59a89a62e0c525fdfc269d12\n",
            "  Stored in directory: /root/.cache/pip/wheels/9f/01/ee/1331593abb5725ff7d8c1333aee93a50a1c29d6ddda9665c9f\n",
            "Successfully built autograd-gamma\n",
            "Installing collected packages: scipy, interface-meta, formulaic, autograd-gamma, lifelines\n",
            "  Attempting uninstall: scipy\n",
            "    Found existing installation: scipy 1.4.1\n",
            "    Uninstalling scipy-1.4.1:\n",
            "      Successfully uninstalled scipy-1.4.1\n",
            "\u001b[31mERROR: pip's dependency resolver does not currently take into account all the packages that are installed. This behaviour is the source of the following dependency conflicts.\n",
            "albumentations 0.1.12 requires imgaug<0.2.7,>=0.2.5, but you have imgaug 0.2.9 which is incompatible.\u001b[0m\n",
            "Successfully installed autograd-gamma-0.5.0 formulaic-0.3.4 interface-meta-1.3.0 lifelines-0.27.0 scipy-1.7.3\n"
          ]
        },
        {
          "output_type": "display_data",
          "data": {
            "application/vnd.colab-display-data+json": {
              "pip_warning": {
                "packages": [
                  "scipy"
                ]
              }
            }
          },
          "metadata": {}
        }
      ]
    },
    {
      "cell_type": "code",
      "source": [
        "import lifelines"
      ],
      "metadata": {
        "id": "os_2xdmpUx4m"
      },
      "execution_count": null,
      "outputs": []
    },
    {
      "cell_type": "code",
      "source": [
        "from lifelines import KaplanMeierFitter\n",
        "\n",
        "kmf = KaplanMeierFitter()\n",
        "kmf.fit(durations= DataDummies['timeline'], event_observed = DataDummies['result'])\n",
        "\n",
        "kmf.survival_function_.plot(figsize=(10,6))\n",
        "plt.title('Survival Curve estimated with Kaplan-Meier Fitter')\n",
        "plt.xticks(np.arange(min(DataDummies['timeline']),max(DataDummies['timeline']),200))\n",
        "plt.yticks(np.arange(0.0,1.0, 0.1))\n",
        "plt.grid()\n",
        "plt.show()\n"
      ],
      "metadata": {
        "id": "d7Hs9Xd4QwQx",
        "colab": {
          "base_uri": "https://localhost:8080/",
          "height": 404
        },
        "outputId": "a56fa202-4468-4cc1-ec06-f5a0fee8c071"
      },
      "execution_count": null,
      "outputs": [
        {
          "output_type": "display_data",
          "data": {
            "text/plain": [
              "<Figure size 720x432 with 1 Axes>"
            ],
            "image/png": "[encoded data removed]"
          },
          "metadata": {
            "needs_background": "light"
          }
        }
      ]
    },
    {
      "cell_type": "code",
      "source": [
        "kmf.plot_survival_function(figsize=(10,6))\n",
        "plt.title('Survival Curve estimated with Kaplan-Meier Fitter including confidence interval')\n",
        "plt.xticks(np.arange(min(DataDummies['timeline']),max(DataDummies['timeline']),200))\n",
        "plt.yticks(np.arange(0.0,1.0, 0.1))\n",
        "plt.grid()\n",
        "plt.show()"
      ],
      "metadata": {
        "colab": {
          "base_uri": "https://localhost:8080/",
          "height": 404
        },
        "id": "FBiz11ttP8Jm",
        "outputId": "9df6e27f-5d3f-4766-d5f8-ba95bed7552c"
      },
      "execution_count": null,
      "outputs": [
        {
          "output_type": "display_data",
          "data": {
            "text/plain": [
              "<Figure size 720x432 with 1 Axes>"
            ],
            "image/png": "[encoded data removed]"
          },
          "metadata": {
            "needs_background": "light"
          }
        }
      ]
    },
    {
      "cell_type": "code",
      "source": [
        "kmf.survival_function_"
      ],
      "metadata": {
        "colab": {
          "base_uri": "https://localhost:8080/",
          "height": 455
        },
        "id": "_qxzns37RSKV",
        "outputId": "2a8b9a69-c188-4a5b-807a-0f791025f12c"
      },
      "execution_count": null,
      "outputs": [
        {
          "output_type": "execute_result",
          "data": {
            "text/plain": [
              "          KM_estimate\n",
              "timeline             \n",
              "0.0          1.000000\n",
              "17.0         0.990099\n",
              "20.0         0.980198\n",
              "23.0         0.970297\n",
              "27.0         0.960396\n",
              "...               ...\n",
              "1443.0       0.039604\n",
              "1454.0       0.029703\n",
              "1596.0       0.019802\n",
              "1623.0       0.009901\n",
              "2841.0       0.000000\n",
              "\n",
              "[96 rows x 1 columns]"
            ],
            "text/html": [
              "\n",
              "  <div id=\"df-929bd56d-3a8a-43de-8e0b-7d916a0f9abe\">\n",
              "    <div class=\"colab-df-container\">\n",
              "      <div>\n",
              "<style scoped>\n",
              "    .dataframe tbody tr th:only-of-type {\n",
              "        vertical-align: middle;\n",
              "    }\n",
              "\n",
              "    .dataframe tbody tr th {\n",
              "        vertical-align: top;\n",
              "    }\n",
              "\n",
              "    .dataframe thead th {\n",
              "        text-align: right;\n",
              "    }\n",
              "</style>\n",
              "<table border=\"1\" class=\"dataframe\">\n",
              "  <thead>\n",
              "    <tr style=\"text-align: right;\">\n",
              "      <th></th>\n",
              "      <th>KM_estimate</th>\n",
              "    </tr>\n",
              "    <tr>\n",
              "      <th>timeline</th>\n",
              "      <th></th>\n",
              "    </tr>\n",
              "  </thead>\n",
              "  <tbody>\n",
              "    <tr>\n",
              "      <th>0.0</th>\n",
              "      <td>1.000000</td>\n",
              "    </tr>\n",
              "    <tr>\n",
              "      <th>17.0</th>\n",
              "      <td>0.990099</td>\n",
              "    </tr>\n",
              "    <tr>\n",
              "      <th>20.0</th>\n",
              "      <td>0.980198</td>\n",
              "    </tr>\n",
              "    <tr>\n",
              "      <th>23.0</th>\n",
              "      <td>0.970297</td>\n",
              "    </tr>\n",
              "    <tr>\n",
              "      <th>27.0</th>\n",
              "      <td>0.960396</td>\n",
              "    </tr>\n",
              "    <tr>\n",
              "      <th>...</th>\n",
              "      <td>...</td>\n",
              "    </tr>\n",
              "    <tr>\n",
              "      <th>1443.0</th>\n",
              "      <td>0.039604</td>\n",
              "    </tr>\n",
              "    <tr>\n",
              "      <th>1454.0</th>\n",
              "      <td>0.029703</td>\n",
              "    </tr>\n",
              "    <tr>\n",
              "      <th>1596.0</th>\n",
              "      <td>0.019802</td>\n",
              "    </tr>\n",
              "    <tr>\n",
              "      <th>1623.0</th>\n",
              "      <td>0.009901</td>\n",
              "    </tr>\n",
              "    <tr>\n",
              "      <th>2841.0</th>\n",
              "      <td>0.000000</td>\n",
              "    </tr>\n",
              "  </tbody>\n",
              "</table>\n",
              "<p>96 rows × 1 columns</p>\n",
              "</div>\n",
              "      <button class=\"colab-df-convert\" onclick=\"convertToInteractive('df-929bd56d-3a8a-43de-8e0b-7d916a0f9abe')\"\n",
              "              title=\"Convert this dataframe to an interactive table.\"\n",
              "              style=\"display:none;\">\n",
              "        \n",
              "  <svg xmlns=\"http://www.w3.org/2000/svg\" height=\"24px\"viewBox=\"0 0 24 24\"\n",
              "       width=\"24px\">\n",
              "    <path d=\"M0 0h24v24H0V0z\" fill=\"none\"/>\n",
              "    <path d=\"M18.56 5.44l.94 2.06.94-2.06 2.06-.94-2.06-.94-.94-2.06-.94 2.06-2.06.94zm-11 1L8.5 8.5l.94-2.06 2.06-.94-2.06-.94L8.5 2.5l-.94 2.06-2.06.94zm10 10l.94 2.06.94-2.06 2.06-.94-2.06-.94-.94-2.06-.94 2.06-2.06.94z\"/><path d=\"M17.41 7.96l-1.37-1.37c-.4-.4-.92-.59-1.43-.59-.52 0-1.04.2-1.43.59L10.3 9.45l-7.72 7.72c-.78.78-.78 2.05 0 2.83L4 21.41c.39.39.9.59 1.41.59.51 0 1.02-.2 1.41-.59l7.78-7.78 2.81-2.81c.8-.78.8-2.07 0-2.86zM5.41 20L4 18.59l7.72-7.72 1.47 1.35L5.41 20z\"/>\n",
              "  </svg>\n",
              "      </button>\n",
              "      \n",
              "  <style>\n",
              "    .colab-df-container {\n",
              "      display:flex;\n",
              "      flex-wrap:wrap;\n",
              "      gap: 12px;\n",
              "    }\n",
              "\n",
              "    .colab-df-convert {\n",
              "      background-color: #E8F0FE;\n",
              "      border: none;\n",
              "      border-radius: 50%;\n",
              "      cursor: pointer;\n",
              "      display: none;\n",
              "      fill: #1967D2;\n",
              "      height: 32px;\n",
              "      padding: 0 0 0 0;\n",
              "      width: 32px;\n",
              "    }\n",
              "\n",
              "    .colab-df-convert:hover {\n",
              "      background-color: #E2EBFA;\n",
              "      box-shadow: 0px 1px 2px rgba(60, 64, 67, 0.3), 0px 1px 3px 1px rgba(60, 64, 67, 0.15);\n",
              "      fill: #174EA6;\n",
              "    }\n",
              "\n",
              "    [theme=dark] .colab-df-convert {\n",
              "      background-color: #3B4455;\n",
              "      fill: #D2E3FC;\n",
              "    }\n",
              "\n",
              "    [theme=dark] .colab-df-convert:hover {\n",
              "      background-color: #434B5C;\n",
              "      box-shadow: 0px 1px 3px 1px rgba(0, 0, 0, 0.15);\n",
              "      filter: drop-shadow(0px 1px 2px rgba(0, 0, 0, 0.3));\n",
              "      fill: #FFFFFF;\n",
              "    }\n",
              "  </style>\n",
              "\n",
              "      <script>\n",
              "        const buttonEl =\n",
              "          document.querySelector('#df-929bd56d-3a8a-43de-8e0b-7d916a0f9abe button.colab-df-convert');\n",
              "        buttonEl.style.display =\n",
              "          google.colab.kernel.accessAllowed ? 'block' : 'none';\n",
              "\n",
              "        async function convertToInteractive(key) {\n",
              "          const element = document.querySelector('#df-929bd56d-3a8a-43de-8e0b-7d916a0f9abe');\n",
              "          const dataTable =\n",
              "            await google.colab.kernel.invokeFunction('convertToInteractive',\n",
              "                                                     [key], {});\n",
              "          if (!dataTable) return;\n",
              "\n",
              "          const docLinkHtml = 'Like what you see? Visit the ' +\n",
              "            '<a target=\"_blank\" href=https://colab.research.google.com/notebooks/data_table.ipynb>data table notebook</a>'\n",
              "            + ' to learn more about interactive tables.';\n",
              "          element.innerHTML = '';\n",
              "          dataTable['output_type'] = 'display_data';\n",
              "          await google.colab.output.renderOutput(dataTable, element);\n",
              "          const docLink = document.createElement('div');\n",
              "          docLink.innerHTML = docLinkHtml;\n",
              "          element.appendChild(docLink);\n",
              "        }\n",
              "      </script>\n",
              "    </div>\n",
              "  </div>\n",
              "  "
            ]
          },
          "metadata": {},
          "execution_count": 31
        }
      ]
    },
    {
      "cell_type": "markdown",
      "source": [
        "Polynomial Regression"
      ],
      "metadata": {
        "id": "aN4uUSZO9vDb"
      }
    },
    {
      "cell_type": "code",
      "source": [
        "# from sklearn.preprocessing import PolynomialFeatures\n",
        "# polyreg = PolynomialFeatures(degree=3, include_bias = False)\n",
        "# X_train = polyreg.fit_transform(X_train.reshape(-1, 1))\n",
        "# X_poly = polyreg.fit_transform(X_train)\n",
        "# reg = LinearRegression()\n",
        "# polyreg.fit(X_poly,y_train)\n",
        "# pred2array= np.array([[X_test]])\n",
        "# pred2array = polyreg.fit_transform(pred2array.reshape(-1, 1))\n",
        "# reg.predict(polyreg.fit_transform(pred2array))"
      ],
      "metadata": {
        "id": "K3xCKehC9nFU"
      },
      "execution_count": null,
      "outputs": []
    },
    {
      "cell_type": "code",
      "source": [
        "# acc = cross_val_score(estimator = Regressor, X = X_train, y = y_train, cv = 10)\n",
        "# print(\"accuracy : {:.2f}%\".format(acc.mean()*100))\n",
        "# print(\"standard deviation: {:.2f}%\".format(acc.std()*100))"
      ],
      "metadata": {
        "id": "Q488nUfTpNOz"
      },
      "execution_count": null,
      "outputs": []
    },
    {
      "cell_type": "code",
      "source": [
        "plt.figure(figsize=(12,10))\n",
        "p=sns.heatmap(DataDummies.corr(),annot=True,cmap=\"RdYlGn\")"
      ],
      "metadata": {
        "id": "J8XNCyUopp0E",
        "colab": {
          "base_uri": "https://localhost:8080/",
          "height": 798
        },
        "outputId": "1b53f70b-5129-4803-8042-a7ab81a8a2c4"
      },
      "execution_count": null,
      "outputs": [
        {
          "output_type": "display_data",
          "data": {
            "text/plain": [
              "<Figure size 864x720 with 2 Axes>"
            ],
            "image/png": "[encoded data removed]"
          },
          "metadata": {
            "needs_background": "light"
          }
        }
      ]
    },
    {
      "cell_type": "markdown",
      "source": [
        "Cox Proportional - Hazards model"
      ],
      "metadata": {
        "id": "BXt2YQRvaVsI"
      }
    },
    {
      "cell_type": "code",
      "source": [
        "columns_selected = ['Dx.Age','timeline','result', 'RPP.SzPanc.cm', 'Aut.SzPrim.cm', 'Dx.WasPrimExcis_Yes', 'RPP.remark_Yes', 'Aut.Panc_Absent (Treated)', 'Aut.Panc_Recurred After Surgery']\n",
        "PH_data = DataDummies[columns_selected]"
      ],
      "metadata": {
        "id": "IJ6YGqA0abXO"
      },
      "execution_count": null,
      "outputs": []
    },
    {
      "cell_type": "code",
      "source": [
        "from lifelines import CoxPHFitter\n",
        "# Initialize and fit the model\n",
        "coxph = CoxPHFitter()\n",
        "coxph.fit(PH_data, duration_col = 'timeline', event_col = 'result')\n",
        "# Print model summary\n",
        "coxph.print_summary()\n"
      ],
      "metadata": {
        "colab": {
          "base_uri": "https://localhost:8080/",
          "height": 697
        },
        "id": "ewomofuZc8D8",
        "outputId": "637f0d3c-3045-4135-d510-474b0fc4b183"
      },
      "execution_count": null,
      "outputs": [
        {
          "output_type": "display_data",
          "data": {
            "text/plain": [
              "<lifelines.CoxPHFitter: fitted with 101 total observations, 0 right-censored observations>\n",
              "             duration col = 'timeline'\n",
              "                event col = 'result'\n",
              "      baseline estimation = breslow\n",
              "   number of observations = 101\n",
              "number of events observed = 101\n",
              "   partial log-likelihood = -350.39\n",
              "         time fit was run = 2022-05-29 15:06:20 UTC\n",
              "\n",
              "---\n",
              "                                  coef  exp(coef)   se(coef)   coef lower 95%   coef upper 95%  exp(coef) lower 95%  exp(coef) upper 95%\n",
              "covariate                                                                                                                               \n",
              "Dx.Age                           -0.01       0.99       0.01            -0.02             0.01                 0.98                 1.01\n",
              "RPP.SzPanc.cm                     0.02       1.02       0.09            -0.16             0.19                 0.85                 1.21\n",
              "Aut.SzPrim.cm                    -0.13       0.88       0.06            -0.25            -0.01                 0.78                 0.99\n",
              "Dx.WasPrimExcis_Yes              -0.79       0.46       0.48            -1.72             0.15                 0.18                 1.17\n",
              "RPP.remark_Yes                   -0.94       0.39       0.28            -1.48            -0.40                 0.23                 0.67\n",
              "Aut.Panc_Absent (Treated)        -0.36       0.70       1.16            -2.64             1.91                 0.07                 6.77\n",
              "Aut.Panc_Recurred After Surgery   0.42       1.52       0.60            -0.76             1.59                 0.47                 4.91\n",
              "\n",
              "                                  cmp to     z      p   -log2(p)\n",
              "covariate                                                       \n",
              "Dx.Age                              0.00 -0.72   0.47       1.08\n",
              "RPP.SzPanc.cm                       0.00  0.20   0.84       0.24\n",
              "Aut.SzPrim.cm                       0.00 -2.21   0.03       5.20\n",
              "Dx.WasPrimExcis_Yes                 0.00 -1.64   0.10       3.31\n",
              "RPP.remark_Yes                      0.00 -3.39 <0.005      10.46\n",
              "Aut.Panc_Absent (Treated)           0.00 -0.31   0.75       0.41\n",
              "Aut.Panc_Recurred After Surgery     0.00  0.69   0.49       1.04\n",
              "---\n",
              "Concordance = 0.70\n",
              "Partial AIC = 714.78\n",
              "log-likelihood ratio test = 35.92 on 7 df\n",
              "-log2(p) of ll-ratio test = 17.03"
            ],
            "text/html": [
              "<div>\n",
              "<style scoped>\n",
              "    .dataframe tbody tr th:only-of-type {\n",
              "        vertical-align: middle;\n",
              "    }\n",
              "\n",
              "    .dataframe tbody tr th {\n",
              "        vertical-align: top;\n",
              "    }\n",
              "\n",
              "    .dataframe thead th {\n",
              "        text-align: right;\n",
              "    }\n",
              "</style>\n",
              "<table border=\"1\" class=\"dataframe\">\n",
              "  <tbody>\n",
              "    <tr>\n",
              "      <th>model</th>\n",
              "      <td>lifelines.CoxPHFitter</td>\n",
              "    </tr>\n",
              "    <tr>\n",
              "      <th>duration col</th>\n",
              "      <td>'timeline'</td>\n",
              "    </tr>\n",
              "    <tr>\n",
              "      <th>event col</th>\n",
              "      <td>'result'</td>\n",
              "    </tr>\n",
              "    <tr>\n",
              "      <th>baseline estimation</th>\n",
              "      <td>breslow</td>\n",
              "    </tr>\n",
              "    <tr>\n",
              "      <th>number of observations</th>\n",
              "      <td>101</td>\n",
              "    </tr>\n",
              "    <tr>\n",
              "      <th>number of events observed</th>\n",
              "      <td>101</td>\n",
              "    </tr>\n",
              "    <tr>\n",
              "      <th>partial log-likelihood</th>\n",
              "      <td>-350.39</td>\n",
              "    </tr>\n",
              "    <tr>\n",
              "      <th>time fit was run</th>\n",
              "      <td>2022-05-29 15:06:20 UTC</td>\n",
              "    </tr>\n",
              "  </tbody>\n",
              "</table>\n",
              "</div><table border=\"1\" class=\"dataframe\">\n",
              "  <thead>\n",
              "    <tr style=\"text-align: right;\">\n",
              "      <th style=\"min-width: 12px;\"></th>\n",
              "      <th style=\"min-width: 12px;\">coef</th>\n",
              "      <th style=\"min-width: 12px;\">exp(coef)</th>\n",
              "      <th style=\"min-width: 12px;\">se(coef)</th>\n",
              "      <th style=\"min-width: 12px;\">coef lower 95%</th>\n",
              "      <th style=\"min-width: 12px;\">coef upper 95%</th>\n",
              "      <th style=\"min-width: 12px;\">exp(coef) lower 95%</th>\n",
              "      <th style=\"min-width: 12px;\">exp(coef) upper 95%</th>\n",
              "      <th style=\"min-width: 12px;\">cmp to</th>\n",
              "      <th style=\"min-width: 12px;\">z</th>\n",
              "      <th style=\"min-width: 12px;\">p</th>\n",
              "      <th style=\"min-width: 12px;\">-log2(p)</th>\n",
              "    </tr>\n",
              "  </thead>\n",
              "  <tbody>\n",
              "    <tr>\n",
              "      <th>Dx.Age</th>\n",
              "      <td>-0.01</td>\n",
              "      <td>0.99</td>\n",
              "      <td>0.01</td>\n",
              "      <td>-0.02</td>\n",
              "      <td>0.01</td>\n",
              "      <td>0.98</td>\n",
              "      <td>1.01</td>\n",
              "      <td>0.00</td>\n",
              "      <td>-0.72</td>\n",
              "      <td>0.47</td>\n",
              "      <td>1.08</td>\n",
              "    </tr>\n",
              "    <tr>\n",
              "      <th>RPP.SzPanc.cm</th>\n",
              "      <td>0.02</td>\n",
              "      <td>1.02</td>\n",
              "      <td>0.09</td>\n",
              "      <td>-0.16</td>\n",
              "      <td>0.19</td>\n",
              "      <td>0.85</td>\n",
              "      <td>1.21</td>\n",
              "      <td>0.00</td>\n",
              "      <td>0.20</td>\n",
              "      <td>0.84</td>\n",
              "      <td>0.24</td>\n",
              "    </tr>\n",
              "    <tr>\n",
              "      <th>Aut.SzPrim.cm</th>\n",
              "      <td>-0.13</td>\n",
              "      <td>0.88</td>\n",
              "      <td>0.06</td>\n",
              "      <td>-0.25</td>\n",
              "      <td>-0.01</td>\n",
              "      <td>0.78</td>\n",
              "      <td>0.99</td>\n",
              "      <td>0.00</td>\n",
              "      <td>-2.21</td>\n",
              "      <td>0.03</td>\n",
              "      <td>5.20</td>\n",
              "    </tr>\n",
              "    <tr>\n",
              "      <th>Dx.WasPrimExcis_Yes</th>\n",
              "      <td>-0.79</td>\n",
              "      <td>0.46</td>\n",
              "      <td>0.48</td>\n",
              "      <td>-1.72</td>\n",
              "      <td>0.15</td>\n",
              "      <td>0.18</td>\n",
              "      <td>1.17</td>\n",
              "      <td>0.00</td>\n",
              "      <td>-1.64</td>\n",
              "      <td>0.10</td>\n",
              "      <td>3.31</td>\n",
              "    </tr>\n",
              "    <tr>\n",
              "      <th>RPP.remark_Yes</th>\n",
              "      <td>-0.94</td>\n",
              "      <td>0.39</td>\n",
              "      <td>0.28</td>\n",
              "      <td>-1.48</td>\n",
              "      <td>-0.40</td>\n",
              "      <td>0.23</td>\n",
              "      <td>0.67</td>\n",
              "      <td>0.00</td>\n",
              "      <td>-3.39</td>\n",
              "      <td>&lt;0.005</td>\n",
              "      <td>10.46</td>\n",
              "    </tr>\n",
              "    <tr>\n",
              "      <th>Aut.Panc_Absent (Treated)</th>\n",
              "      <td>-0.36</td>\n",
              "      <td>0.70</td>\n",
              "      <td>1.16</td>\n",
              "      <td>-2.64</td>\n",
              "      <td>1.91</td>\n",
              "      <td>0.07</td>\n",
              "      <td>6.77</td>\n",
              "      <td>0.00</td>\n",
              "      <td>-0.31</td>\n",
              "      <td>0.75</td>\n",
              "      <td>0.41</td>\n",
              "    </tr>\n",
              "    <tr>\n",
              "      <th>Aut.Panc_Recurred After Surgery</th>\n",
              "      <td>0.42</td>\n",
              "      <td>1.52</td>\n",
              "      <td>0.60</td>\n",
              "      <td>-0.76</td>\n",
              "      <td>1.59</td>\n",
              "      <td>0.47</td>\n",
              "      <td>4.91</td>\n",
              "      <td>0.00</td>\n",
              "      <td>0.69</td>\n",
              "      <td>0.49</td>\n",
              "      <td>1.04</td>\n",
              "    </tr>\n",
              "  </tbody>\n",
              "</table><br><div>\n",
              "<style scoped>\n",
              "    .dataframe tbody tr th:only-of-type {\n",
              "        vertical-align: middle;\n",
              "    }\n",
              "\n",
              "    .dataframe tbody tr th {\n",
              "        vertical-align: top;\n",
              "    }\n",
              "\n",
              "    .dataframe thead th {\n",
              "        text-align: right;\n",
              "    }\n",
              "</style>\n",
              "<table border=\"1\" class=\"dataframe\">\n",
              "  <tbody>\n",
              "    <tr>\n",
              "      <th>Concordance</th>\n",
              "      <td>0.70</td>\n",
              "    </tr>\n",
              "    <tr>\n",
              "      <th>Partial AIC</th>\n",
              "      <td>714.78</td>\n",
              "    </tr>\n",
              "    <tr>\n",
              "      <th>log-likelihood ratio test</th>\n",
              "      <td>35.92 on 7 df</td>\n",
              "    </tr>\n",
              "    <tr>\n",
              "      <th>-log2(p) of ll-ratio test</th>\n",
              "      <td>17.03</td>\n",
              "    </tr>\n",
              "  </tbody>\n",
              "</table>\n",
              "</div>"
            ],
            "text/latex": "\\begin{tabular}{lrrrrrrrrrrr}\n\\toprule\n{} &  coef &  exp(coef) &  se(coef) &  coef lower 95\\% &  coef upper 95\\% &  exp(coef) lower 95\\% &  exp(coef) upper 95\\% &  cmp to &     z &    p &  -log2(p) \\\\\ncovariate                       &       &            &           &                 &                 &                      &                      &         &       &      &           \\\\\n\\midrule\nDx.Age                          & -0.01 &       0.99 &      0.01 &           -0.02 &            0.01 &                 0.98 &                 1.01 &    0.00 & -0.72 & 0.47 &      1.08 \\\\\nRPP.SzPanc.cm                   &  0.02 &       1.02 &      0.09 &           -0.16 &            0.19 &                 0.85 &                 1.21 &    0.00 &  0.20 & 0.84 &      0.24 \\\\\nAut.SzPrim.cm                   & -0.13 &       0.88 &      0.06 &           -0.25 &           -0.01 &                 0.78 &                 0.99 &    0.00 & -2.21 & 0.03 &      5.20 \\\\\nDx.WasPrimExcis\\_Yes             & -0.79 &       0.46 &      0.48 &           -1.72 &            0.15 &                 0.18 &                 1.17 &    0.00 & -1.64 & 0.10 &      3.31 \\\\\nRPP.remark\\_Yes                  & -0.94 &       0.39 &      0.28 &           -1.48 &           -0.40 &                 0.23 &                 0.67 &    0.00 & -3.39 & 0.00 &     10.46 \\\\\nAut.Panc\\_Absent (Treated)       & -0.36 &       0.70 &      1.16 &           -2.64 &            1.91 &                 0.07 &                 6.77 &    0.00 & -0.31 & 0.75 &      0.41 \\\\\nAut.Panc\\_Recurred After Surgery &  0.42 &       1.52 &      0.60 &           -0.76 &            1.59 &                 0.47 &                 4.91 &    0.00 &  0.69 & 0.49 &      1.04 \\\\\n\\bottomrule\n\\end{tabular}\n"
          },
          "metadata": {}
        }
      ]
    },
    {
      "cell_type": "code",
      "source": [
        "coxph.plot()"
      ],
      "metadata": {
        "id": "vqMdvOYUyxgC",
        "outputId": "a48144aa-7bac-4507-ac26-1fc8a846bbca",
        "colab": {
          "base_uri": "https://localhost:8080/",
          "height": 296
        }
      },
      "execution_count": null,
      "outputs": [
        {
          "output_type": "execute_result",
          "data": {
            "text/plain": [
              "<matplotlib.axes._subplots.AxesSubplot at 0x7f0e09030dd0>"
            ]
          },
          "metadata": {},
          "execution_count": 37
        },
        {
          "output_type": "display_data",
          "data": {
            "text/plain": [
              "<Figure size 432x288 with 1 Axes>"
            ],
            "image/png": "[encoded data removed]"
          },
          "metadata": {
            "needs_background": "light"
          }
        }
      ]
    },
    {
      "cell_type": "code",
      "source": [
        "from lifelines import CoxTimeVaryingFitter\n",
        "\n",
        "cox_tv = CoxTimeVaryingFitter()\n",
        "cox_tv.fit(PH_data, event_col= 'timeline', start_col = \"start\", stop_col = \"stop\", show_progress=True, step_size=0.1)"
      ],
      "metadata": {
        "colab": {
          "base_uri": "https://localhost:8080/",
          "height": 339
        },
        "id": "WcsdzJI-tFed",
        "outputId": "d673e3f1-757a-4902-eead-b0e2208dbcab"
      },
      "execution_count": null,
      "outputs": [
        {
          "output_type": "error",
          "ename": "KeyError",
          "evalue": "ignored",
          "traceback": [
            "\u001b[0;31m---------------------------------------------------------------------------\u001b[0m",
            "\u001b[0;31mKeyError\u001b[0m                                  Traceback (most recent call last)",
            "\u001b[0;32m<ipython-input-38-bb79278bc372>\u001b[0m in \u001b[0;36m<module>\u001b[0;34m()\u001b[0m\n\u001b[1;32m      2\u001b[0m \u001b[0;34m\u001b[0m\u001b[0m\n\u001b[1;32m      3\u001b[0m \u001b[0mcox_tv\u001b[0m \u001b[0;34m=\u001b[0m \u001b[0mCoxTimeVaryingFitter\u001b[0m\u001b[0;34m(\u001b[0m\u001b[0;34m)\u001b[0m\u001b[0;34m\u001b[0m\u001b[0;34m\u001b[0m\u001b[0m\n\u001b[0;32m----> 4\u001b[0;31m \u001b[0mcox_tv\u001b[0m\u001b[0;34m.\u001b[0m\u001b[0mfit\u001b[0m\u001b[0;34m(\u001b[0m\u001b[0mPH_data\u001b[0m\u001b[0;34m,\u001b[0m \u001b[0mevent_col\u001b[0m\u001b[0;34m=\u001b[0m \u001b[0;34m'timeline'\u001b[0m\u001b[0;34m,\u001b[0m \u001b[0mstart_col\u001b[0m \u001b[0;34m=\u001b[0m \u001b[0;34m\"start\"\u001b[0m\u001b[0;34m,\u001b[0m \u001b[0mstop_col\u001b[0m \u001b[0;34m=\u001b[0m \u001b[0;34m\"stop\"\u001b[0m\u001b[0;34m,\u001b[0m \u001b[0mshow_progress\u001b[0m\u001b[0;34m=\u001b[0m\u001b[0;32mTrue\u001b[0m\u001b[0;34m,\u001b[0m \u001b[0mstep_size\u001b[0m\u001b[0;34m=\u001b[0m\u001b[0;36m0.1\u001b[0m\u001b[0;34m)\u001b[0m\u001b[0;34m\u001b[0m\u001b[0;34m\u001b[0m\u001b[0m\n\u001b[0m",
            "\u001b[0;32m/usr/local/lib/python3.7/dist-packages/lifelines/fitters/cox_time_varying_fitter.py\u001b[0m in \u001b[0;36mfit\u001b[0;34m(self, df, event_col, start_col, stop_col, weights_col, id_col, show_progress, step_size, robust, strata, initial_point, formula)\u001b[0m\n\u001b[1;32m    173\u001b[0m \u001b[0;34m\u001b[0m\u001b[0m\n\u001b[1;32m    174\u001b[0m         \u001b[0;32mif\u001b[0m \u001b[0;32mnot\u001b[0m \u001b[0;34m(\u001b[0m\u001b[0mevent_col\u001b[0m \u001b[0;32min\u001b[0m \u001b[0mdf\u001b[0m \u001b[0;32mand\u001b[0m \u001b[0mstart_col\u001b[0m \u001b[0;32min\u001b[0m \u001b[0mdf\u001b[0m \u001b[0;32mand\u001b[0m \u001b[0mstop_col\u001b[0m \u001b[0;32min\u001b[0m \u001b[0mdf\u001b[0m\u001b[0;34m)\u001b[0m\u001b[0;34m:\u001b[0m\u001b[0;34m\u001b[0m\u001b[0;34m\u001b[0m\u001b[0m\n\u001b[0;32m--> 175\u001b[0;31m             \u001b[0;32mraise\u001b[0m \u001b[0mKeyError\u001b[0m\u001b[0;34m(\u001b[0m\u001b[0;34m\"A column specified in the call to `fit` does not exist in the DataFrame provided.\"\u001b[0m\u001b[0;34m)\u001b[0m\u001b[0;34m\u001b[0m\u001b[0;34m\u001b[0m\u001b[0m\n\u001b[0m\u001b[1;32m    176\u001b[0m \u001b[0;34m\u001b[0m\u001b[0m\n\u001b[1;32m    177\u001b[0m         \u001b[0;32mif\u001b[0m \u001b[0mweights_col\u001b[0m \u001b[0;32mis\u001b[0m \u001b[0;32mNone\u001b[0m\u001b[0;34m:\u001b[0m\u001b[0;34m\u001b[0m\u001b[0;34m\u001b[0m\u001b[0m\n",
            "\u001b[0;31mKeyError\u001b[0m: 'A column specified in the call to `fit` does not exist in the DataFrame provided.'"
          ]
        }
      ]
    },
    {
      "cell_type": "code",
      "source": [
        "!git remote add origin https://<Yash-2001-code>:<Github67>@github.com/<Yash-2001-code>/PancreaticCancer.git\n",
        "# !git remote add origin https://<USERNAME>:<Token>@github.com/<USERNAME>/reponame.git"
      ],
      "metadata": {
        "id": "OrHepA2-Fj8h",
        "colab": {
          "base_uri": "https://localhost:8080/"
        },
        "outputId": "d8c988cb-888a-4c2f-ec6c-138d14e274fe"
      },
      "execution_count": null,
      "outputs": [
        {
          "output_type": "stream",
          "name": "stdout",
          "text": [
            "/bin/bash: Yash-2001-code: No such file or directory\n"
          ]
        }
      ]
    },
    {
      "cell_type": "code",
      "source": [
        ""
      ],
      "metadata": {
        "id": "nLx2vbGZJN8i"
      },
      "execution_count": null,
      "outputs": []
    }
  ]
}